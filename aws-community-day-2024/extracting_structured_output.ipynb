{
  "cells": [
    {
      "cell_type": "markdown",
      "metadata": {
        "id": "view-in-github",
        "colab_type": "text"
      },
      "source": [
        "<a href=\"https://colab.research.google.com/github/bilgeyucel/presentations/blob/main/aws-community-day-2024/extracting_structured_output.ipynb\" target=\"_parent\"><img src=\"https://colab.research.google.com/assets/colab-badge.svg\" alt=\"Open In Colab\"/></a>"
      ]
    },
    {
      "cell_type": "markdown",
      "metadata": {
        "id": "AVBtOVlNJ51C"
      },
      "source": [
        "# Generating Structured Output with Loop-Based Auto-Correction using Amazon Bedrock and Haystack (AWS Community Day Turkey 2024)\n",
        "\n",
        "by Bilge Yucel [Twitter](https://twitter.com/bilgeycl), [Linkedin](https://www.linkedin.com/in/bilge-yucel/)\n",
        "\n",
        "- **Level**: Intermediate\n",
        "- **Time to complete**: 15 minutes\n",
        "- **Prerequisites**: You must have credentials for [AmazonBedrock](https://docs.aws.amazon.com/bedrock/)\n",
        "- **Components Used**: `PromptBuilder`, `AmazonBedrockGenerator`, `OutputValidator` (Custom component)\n",
        "\n",
        "📚 Useful Resources\n",
        "* [Documentation](https://docs.haystack.deepset.ai/docs?utm_campaign=developer-relations&utm_source=aws-day-turkey&utm_medium=colab)\n",
        "* [GitHub Repo](https://github.com/deepset-ai/haystack)\n",
        "* [Website](https://haystack.deepset.ai?utm_campaign=developer-relations&utm_source=aws-day-turkey&utm_medium=colab)\n",
        "\n",
        "## Overview\n",
        "This example demonstrates how to use Haystack's advanced [looping pipelines](https://docs.haystack.deepset.ai/docs/pipelines#loops) with LLMs for more dynamic and flexible data processing. You'll learn how to extract structured data from unstructured data using an LLM, and to validate the generated output against a predefined schema.\n",
        "\n",
        "This tutorial uses Amazon Bedrock models to change unstructured passages into JSON outputs that follow the [Pydantic](https://github.com/pydantic/pydantic) schema. It uses a custom OutputValidator component to validate the JSON and loop back to make corrections, if necessary."
      ]
    },
    {
      "cell_type": "markdown",
      "metadata": {
        "id": "jmiAHh1oGsKI"
      },
      "source": [
        "## Preparing the Colab Environment"
      ]
    },
    {
      "cell_type": "markdown",
      "metadata": {
        "id": "ljbWiyJkKiPw"
      },
      "source": [
        "## Installing Dependencies\n",
        "Install `haystack-ai`, `amazon-bedrock-haystack` and [colorama](https://pypi.org/project/colorama/) with pip:"
      ]
    },
    {
      "cell_type": "code",
      "execution_count": null,
      "metadata": {
        "id": "kcc1AlLQd_jI",
        "colab": {
          "base_uri": "https://localhost:8080/"
        },
        "outputId": "ee0ea721-6c17-4a0e-ffce-235119130c6d"
      },
      "outputs": [
        {
          "output_type": "stream",
          "name": "stdout",
          "text": [
            "Requirement already satisfied: haystack-ai in /usr/local/lib/python3.10/dist-packages (2.1.2)\n",
            "Collecting amazon-bedrock-haystack\n",
            "  Downloading amazon_bedrock_haystack-0.7.1-py3-none-any.whl (30 kB)\n",
            "Requirement already satisfied: boilerpy3 in /usr/local/lib/python3.10/dist-packages (from haystack-ai) (1.0.7)\n",
            "Requirement already satisfied: haystack-bm25 in /usr/local/lib/python3.10/dist-packages (from haystack-ai) (1.0.2)\n",
            "Requirement already satisfied: jinja2 in /usr/local/lib/python3.10/dist-packages (from haystack-ai) (3.1.4)\n",
            "Requirement already satisfied: lazy-imports in /usr/local/lib/python3.10/dist-packages (from haystack-ai) (0.3.1)\n",
            "Requirement already satisfied: more-itertools in /usr/local/lib/python3.10/dist-packages (from haystack-ai) (10.1.0)\n",
            "Requirement already satisfied: networkx in /usr/local/lib/python3.10/dist-packages (from haystack-ai) (3.3)\n",
            "Requirement already satisfied: numpy in /usr/local/lib/python3.10/dist-packages (from haystack-ai) (1.25.2)\n",
            "Requirement already satisfied: openai>=1.1.0 in /usr/local/lib/python3.10/dist-packages (from haystack-ai) (1.30.1)\n",
            "Requirement already satisfied: pandas in /usr/local/lib/python3.10/dist-packages (from haystack-ai) (2.0.3)\n",
            "Requirement already satisfied: posthog in /usr/local/lib/python3.10/dist-packages (from haystack-ai) (3.5.0)\n",
            "Requirement already satisfied: python-dateutil in /usr/local/lib/python3.10/dist-packages (from haystack-ai) (2.8.2)\n",
            "Requirement already satisfied: pyyaml in /usr/local/lib/python3.10/dist-packages (from haystack-ai) (6.0.1)\n",
            "Requirement already satisfied: requests in /usr/local/lib/python3.10/dist-packages (from haystack-ai) (2.31.0)\n",
            "Requirement already satisfied: tenacity in /usr/local/lib/python3.10/dist-packages (from haystack-ai) (8.3.0)\n",
            "Requirement already satisfied: tqdm in /usr/local/lib/python3.10/dist-packages (from haystack-ai) (4.66.4)\n",
            "Requirement already satisfied: typing-extensions>=4.7 in /usr/local/lib/python3.10/dist-packages (from haystack-ai) (4.11.0)\n",
            "Collecting boto3>=1.28.57 (from amazon-bedrock-haystack)\n",
            "  Downloading boto3-1.34.107-py3-none-any.whl (139 kB)\n",
            "     ━━━━━━━━━━━━━━━━━━━━━━━━━━━━━━━━━━━━━━━━ 139.3/139.3 kB 7.3 MB/s eta 0:00:00\n",
            "Requirement already satisfied: transformers in /usr/local/lib/python3.10/dist-packages (from amazon-bedrock-haystack) (4.40.2)\n",
            "Collecting botocore<1.35.0,>=1.34.107 (from boto3>=1.28.57->amazon-bedrock-haystack)\n",
            "  Downloading botocore-1.34.107-py3-none-any.whl (12.2 MB)\n",
            "     ━━━━━━━━━━━━━━━━━━━━━━━━━━━━━━━━━━━━━━━━ 12.2/12.2 MB 68.2 MB/s eta 0:00:00\n",
            "Collecting jmespath<2.0.0,>=0.7.1 (from boto3>=1.28.57->amazon-bedrock-haystack)\n",
            "  Downloading jmespath-1.0.1-py3-none-any.whl (20 kB)\n",
            "Collecting s3transfer<0.11.0,>=0.10.0 (from boto3>=1.28.57->amazon-bedrock-haystack)\n",
            "  Downloading s3transfer-0.10.1-py3-none-any.whl (82 kB)\n",
            "     ━━━━━━━━━━━━━━━━━━━━━━━━━━━━━━━━━━━━━━━━ 82.2/82.2 kB 12.7 MB/s eta 0:00:00\n",
            "Requirement already satisfied: anyio<5,>=3.5.0 in /usr/local/lib/python3.10/dist-packages (from openai>=1.1.0->haystack-ai) (3.7.1)\n",
            "Requirement already satisfied: distro<2,>=1.7.0 in /usr/lib/python3/dist-packages (from openai>=1.1.0->haystack-ai) (1.7.0)\n",
            "Requirement already satisfied: httpx<1,>=0.23.0 in /usr/local/lib/python3.10/dist-packages (from openai>=1.1.0->haystack-ai) (0.27.0)\n",
            "Requirement already satisfied: pydantic<3,>=1.9.0 in /usr/local/lib/python3.10/dist-packages (from openai>=1.1.0->haystack-ai) (2.7.1)\n",
            "Requirement already satisfied: sniffio in /usr/local/lib/python3.10/dist-packages (from openai>=1.1.0->haystack-ai) (1.3.1)\n",
            "Requirement already satisfied: MarkupSafe>=2.0 in /usr/local/lib/python3.10/dist-packages (from jinja2->haystack-ai) (2.1.5)\n",
            "Requirement already satisfied: pytz>=2020.1 in /usr/local/lib/python3.10/dist-packages (from pandas->haystack-ai) (2023.4)\n",
            "Requirement already satisfied: tzdata>=2022.1 in /usr/local/lib/python3.10/dist-packages (from pandas->haystack-ai) (2024.1)\n",
            "Requirement already satisfied: six>=1.5 in /usr/local/lib/python3.10/dist-packages (from python-dateutil->haystack-ai) (1.16.0)\n",
            "Requirement already satisfied: monotonic>=1.5 in /usr/local/lib/python3.10/dist-packages (from posthog->haystack-ai) (1.6)\n",
            "Requirement already satisfied: backoff>=1.10.0 in /usr/local/lib/python3.10/dist-packages (from posthog->haystack-ai) (2.2.1)\n",
            "Requirement already satisfied: charset-normalizer<4,>=2 in /usr/local/lib/python3.10/dist-packages (from requests->haystack-ai) (3.3.2)\n",
            "Requirement already satisfied: idna<4,>=2.5 in /usr/local/lib/python3.10/dist-packages (from requests->haystack-ai) (3.7)\n",
            "Requirement already satisfied: urllib3<3,>=1.21.1 in /usr/local/lib/python3.10/dist-packages (from requests->haystack-ai) (2.0.7)\n",
            "Requirement already satisfied: certifi>=2017.4.17 in /usr/local/lib/python3.10/dist-packages (from requests->haystack-ai) (2024.2.2)\n",
            "Requirement already satisfied: filelock in /usr/local/lib/python3.10/dist-packages (from transformers->amazon-bedrock-haystack) (3.14.0)\n",
            "Requirement already satisfied: huggingface-hub<1.0,>=0.19.3 in /usr/local/lib/python3.10/dist-packages (from transformers->amazon-bedrock-haystack) (0.20.3)\n",
            "Requirement already satisfied: packaging>=20.0 in /usr/local/lib/python3.10/dist-packages (from transformers->amazon-bedrock-haystack) (24.0)\n",
            "Requirement already satisfied: regex!=2019.12.17 in /usr/local/lib/python3.10/dist-packages (from transformers->amazon-bedrock-haystack) (2023.12.25)\n",
            "Requirement already satisfied: tokenizers<0.20,>=0.19 in /usr/local/lib/python3.10/dist-packages (from transformers->amazon-bedrock-haystack) (0.19.1)\n",
            "Requirement already satisfied: safetensors>=0.4.1 in /usr/local/lib/python3.10/dist-packages (from transformers->amazon-bedrock-haystack) (0.4.3)\n",
            "Requirement already satisfied: exceptiongroup in /usr/local/lib/python3.10/dist-packages (from anyio<5,>=3.5.0->openai>=1.1.0->haystack-ai) (1.2.1)\n",
            "Requirement already satisfied: httpcore==1.* in /usr/local/lib/python3.10/dist-packages (from httpx<1,>=0.23.0->openai>=1.1.0->haystack-ai) (1.0.5)\n",
            "Requirement already satisfied: h11<0.15,>=0.13 in /usr/local/lib/python3.10/dist-packages (from httpcore==1.*->httpx<1,>=0.23.0->openai>=1.1.0->haystack-ai) (0.14.0)\n",
            "Requirement already satisfied: fsspec>=2023.5.0 in /usr/local/lib/python3.10/dist-packages (from huggingface-hub<1.0,>=0.19.3->transformers->amazon-bedrock-haystack) (2023.6.0)\n",
            "Requirement already satisfied: annotated-types>=0.4.0 in /usr/local/lib/python3.10/dist-packages (from pydantic<3,>=1.9.0->openai>=1.1.0->haystack-ai) (0.6.0)\n",
            "Requirement already satisfied: pydantic-core==2.18.2 in /usr/local/lib/python3.10/dist-packages (from pydantic<3,>=1.9.0->openai>=1.1.0->haystack-ai) (2.18.2)\n",
            "Installing collected packages: jmespath, botocore, s3transfer, boto3, amazon-bedrock-haystack\n",
            "Successfully installed amazon-bedrock-haystack-0.7.1 boto3-1.34.107 botocore-1.34.107 jmespath-1.0.1 s3transfer-0.10.1\n",
            "Requirement already satisfied: colorama in /usr/local/lib/python3.10/dist-packages (0.4.6)\n"
          ]
        }
      ],
      "source": [
        "%%bash\n",
        "\n",
        "pip install haystack-ai amazon-bedrock-haystack\n",
        "pip install colorama"
      ]
    },
    {
      "cell_type": "markdown",
      "metadata": {
        "id": "Cmjfa8CiCeFl"
      },
      "source": [
        "## Defining a Schema to Parse the JSON Object\n",
        "\n",
        "Define a simple JSON schema for the data you want to extract from a text passsage using the LLM. As the first step, define two [Pydantic models](https://docs.pydantic.dev/1.10/usage/models/), `City` and `CitiesData`, with suitable fields and types."
      ]
    },
    {
      "cell_type": "code",
      "execution_count": null,
      "metadata": {
        "id": "xwKrDOOGdaAz"
      },
      "outputs": [],
      "source": [
        "from typing import List\n",
        "from pydantic import BaseModel\n",
        "\n",
        "class City(BaseModel):\n",
        "    name: str\n",
        "    country: str\n",
        "    population: int\n",
        "\n",
        "\n",
        "class CitiesData(BaseModel):\n",
        "    cities: List[City]"
      ]
    },
    {
      "cell_type": "markdown",
      "metadata": {
        "id": "zv-6-l_PCeFl"
      },
      "source": [
        "> You can change these models according to the format you wish to extract from the text."
      ]
    },
    {
      "cell_type": "markdown",
      "metadata": {
        "id": "ouk1mAOUCeFl"
      },
      "source": [
        "Then, generate a JSON schema from Pydantic models using `schema_json()`. You will later on use this schema in the prompt to instruct the LLM.\n",
        "\n",
        "To learn more about the JSON schemas, visit [Pydantic Schema](https://docs.pydantic.dev/1.10/usage/schema/).  "
      ]
    },
    {
      "cell_type": "code",
      "execution_count": null,
      "metadata": {
        "id": "8Lg9_72jCeFl"
      },
      "outputs": [],
      "source": [
        "json_schema = CitiesData.schema_json(indent=2)"
      ]
    },
    {
      "cell_type": "markdown",
      "metadata": {
        "id": "KvNhg0bP7kfg"
      },
      "source": [
        "## Creating a Custom Component: OutputValidator\n",
        "\n",
        "`OutputValidator` is a custom component that validates if the JSON object the LLM generates complies with the provided [Pydantic model](https://docs.pydantic.dev/1.10/usage/models/). If it doesn't, OutputValidator returns an error message along with the incorrect JSON object to get it fixed in the next loop.\n",
        "\n",
        "For more details about custom components, see [Creating Custom Components](https://docs.haystack.deepset.ai/docs/custom-components)."
      ]
    },
    {
      "cell_type": "code",
      "execution_count": null,
      "metadata": {
        "id": "yr6D8RN2d7Vy"
      },
      "outputs": [],
      "source": [
        "import json\n",
        "import random\n",
        "import pydantic\n",
        "from pydantic import ValidationError\n",
        "from typing import Optional, List\n",
        "from colorama import Fore\n",
        "from haystack import component\n",
        "\n",
        "# Define the component input parameters\n",
        "@component\n",
        "class OutputValidator:\n",
        "    def __init__(self, pydantic_model: pydantic.BaseModel):\n",
        "        self.pydantic_model = pydantic_model\n",
        "        self.iteration_counter = 0\n",
        "\n",
        "    # Define the component output\n",
        "    @component.output_types(valid_replies=List[str], invalid_replies=Optional[List[str]], error_message=Optional[str])\n",
        "    def run(self, replies: List[str]):\n",
        "\n",
        "        self.iteration_counter += 1\n",
        "\n",
        "        ## Try to parse the LLM's reply ##\n",
        "        # If the LLM's reply is a valid object, return `\"valid_replies\"`\n",
        "        try:\n",
        "            output_dict = json.loads(replies[0])\n",
        "            self.pydantic_model.parse_obj(output_dict)\n",
        "            print(\n",
        "                Fore.GREEN\n",
        "                + f\"OutputValidator at Iteration {self.iteration_counter}: Valid JSON from LLM - No need for looping: {replies[0]}\"\n",
        "            )\n",
        "            return {\"valid_replies\": replies}\n",
        "\n",
        "        # If the LLM's reply is corrupted or not valid, return \"invalid_replies\" and the \"error_message\" for LLM to try again\n",
        "        except (ValueError, ValidationError) as e:\n",
        "            print(\n",
        "                Fore.RED\n",
        "                + f\"OutputValidator at Iteration {self.iteration_counter}: Invalid JSON from LLM - Let's try again.\\n\"\n",
        "                f\"Output from LLM:\\n {replies[0]} \\n\"\n",
        "                f\"Error from OutputValidator: {e}\"\n",
        "            )\n",
        "            return {\"invalid_replies\": replies, \"error_message\": str(e)}"
      ]
    },
    {
      "cell_type": "markdown",
      "metadata": {
        "id": "vQ_TfSBkCeFm"
      },
      "source": [
        "Then, create an OutputValidator instance with `CitiesData` that you have created before."
      ]
    },
    {
      "cell_type": "code",
      "execution_count": null,
      "metadata": {
        "id": "bhPCLCBCCeFm"
      },
      "outputs": [],
      "source": [
        "output_validator = OutputValidator(pydantic_model=CitiesData)"
      ]
    },
    {
      "cell_type": "markdown",
      "metadata": {
        "id": "xcIWKjW4k42r"
      },
      "source": [
        "## Creating the Prompt\n",
        "\n",
        "Write instructions for the LLM for converting a passage into a JSON format. Ensure the instructions explain how to identify and correct errors if the JSON doesn't match the required schema. Once you create the prompt, initialize PromptBuilder to use it.  \n",
        "\n",
        "For information about Jinja2 template and PromptBuilder, see [PromptBuilder](https://docs.haystack.deepset.ai/docs/promptbuilder)."
      ]
    },
    {
      "cell_type": "code",
      "execution_count": null,
      "metadata": {
        "id": "ohPpNALjdVKt"
      },
      "outputs": [],
      "source": [
        "from haystack.components.builders import PromptBuilder\n",
        "\n",
        "prompt_template = \"\"\"\n",
        "Create a JSON object from the information present in this passage: {{passage}}.\n",
        "Only use information that is present in the passage. Follow this JSON schema, but only return the actual instances without any additional schema definition:\n",
        "{{schema}}\n",
        "Make sure your response is a dict and not a list.\n",
        "{% if invalid_replies and error_message %}\n",
        "  You already created the following output in a previous attempt: {{invalid_replies}}\n",
        "  However, this doesn't comply with the format requirements from above and triggered this Python exception: {{error_message}}\n",
        "  Correct the output and try again. Just return the corrected output without any extra explanations.\n",
        "{% endif %}\n",
        "\"\"\"\n",
        "prompt_builder = PromptBuilder(template=prompt_template)"
      ]
    },
    {
      "cell_type": "markdown",
      "metadata": {
        "id": "KM9-Zq2FL7Nn"
      },
      "source": [
        "## Initalizing the Generator\n",
        "\n",
        "Use [AmazonBedrockGenerator](https://docs.haystack.deepset.ai/docs/amazonbedrockgenerator) to generate\n",
        "text using Amazon Bedrock's `amazon.titan-text-lite-v1` model."
      ]
    },
    {
      "cell_type": "code",
      "execution_count": null,
      "metadata": {
        "id": "Z4cQteIgunUR",
        "colab": {
          "base_uri": "https://localhost:8080/"
        },
        "outputId": "b983301c-6664-4170-e57f-ecd74cbfcd9b"
      },
      "outputs": [
        {
          "name": "stdout",
          "output_type": "stream",
          "text": [
            "aws_access_key_id: ··········\n",
            "aws_secret_access_key: ··········\n"
          ]
        }
      ],
      "source": [
        "import os\n",
        "from getpass import getpass\n",
        "\n",
        "os.environ[\"AWS_ACCESS_KEY_ID\"] = getpass(\"aws_access_key_id: \")\n",
        "os.environ[\"AWS_SECRET_ACCESS_KEY\"] = getpass(\"aws_secret_access_key: \")\n",
        "os.environ[\"AWS_DEFAULT_REGION\"] = \"us-east-1\""
      ]
    },
    {
      "cell_type": "code",
      "source": [
        "from haystack_integrations.components.generators.amazon_bedrock import AmazonBedrockGenerator\n",
        "\n",
        "bedrock_model = 'amazon.titan-text-lite-v1' # @param [\"amazon.titan-text-express-v1\", \"amazon.titan-text-lite-v1\", \"meta.llama3-8b-instruct-v1:0\", \"meta.llama3-70b-instruct-v1:0\", \"mistral.mixtral-8x7b-instruct-v0:1\", \"anthropic.claude-instant-v1\", \"anthropic.claude-v1\", \"anthropic.claude-v2\",\"anthropic.claude-v2:1\", \"meta.llama2-13b-chat-v1\", \"meta.llama2-70b-chat-v1\", \"ai21.j2-mid-v1\", \"ai21.j2-ultra-v1\"]\n",
        "generator = AmazonBedrockGenerator(model=bedrock_model, max_length=3000)"
      ],
      "metadata": {
        "id": "Tt6GoyDESHSV"
      },
      "execution_count": null,
      "outputs": []
    },
    {
      "cell_type": "markdown",
      "metadata": {
        "id": "zbotIOgXHkC5"
      },
      "source": [
        "## Building the Pipeline\n",
        "\n",
        "Add all components to your pipeline and connect them. Add connections from `output_validator` back to the `prompt_builder` for cases where the produced JSON doesn't comply with the JSON schema. Set `max_loops_allowed` to avoid infinite looping."
      ]
    },
    {
      "cell_type": "code",
      "execution_count": null,
      "metadata": {
        "id": "eFglN9YEv-1W",
        "colab": {
          "base_uri": "https://localhost:8080/"
        },
        "outputId": "af678e9b-0218-4be3-e83e-56d49672509f"
      },
      "outputs": [
        {
          "output_type": "execute_result",
          "data": {
            "text/plain": [
              "<haystack.core.pipeline.pipeline.Pipeline object at 0x786cc22ca7a0>\n",
              "🚅 Components\n",
              "  - prompt_builder: PromptBuilder\n",
              "  - llm: AmazonBedrockGenerator\n",
              "  - output_validator: OutputValidator\n",
              "🛤️ Connections\n",
              "  - prompt_builder.prompt -> llm.prompt (str)\n",
              "  - llm.replies -> output_validator.replies (List[str])\n",
              "  - output_validator.invalid_replies -> prompt_builder.invalid_replies (Optional[List[str]])\n",
              "  - output_validator.error_message -> prompt_builder.error_message (Optional[str])"
            ]
          },
          "metadata": {},
          "execution_count": 18
        }
      ],
      "source": [
        "from haystack import Pipeline\n",
        "\n",
        "pipeline = Pipeline(max_loops_allowed=5)\n",
        "\n",
        "# Add components to your pipeline\n",
        "pipeline.add_component(instance=prompt_builder, name=\"prompt_builder\")\n",
        "pipeline.add_component(instance=generator, name=\"llm\")\n",
        "pipeline.add_component(instance=output_validator, name=\"output_validator\")\n",
        "\n",
        "# Now, connect the components to each other\n",
        "pipeline.connect(\"prompt_builder\", \"llm\")\n",
        "pipeline.connect(\"llm\", \"output_validator\")\n",
        "# If a component has more than one output or input, explicitly specify the connections:\n",
        "pipeline.connect(\"output_validator.invalid_replies\", \"prompt_builder.invalid_replies\")\n",
        "pipeline.connect(\"output_validator.error_message\", \"prompt_builder.error_message\")"
      ]
    },
    {
      "cell_type": "markdown",
      "metadata": {
        "id": "-UKW5wtIIT7w"
      },
      "source": [
        "### Visualize the Pipeline\n",
        "\n",
        "To understand how you formed this pipeline with conditional routing, use [show()](https://docs.haystack.deepset.ai/docs/visualizing-pipelines) method of the pipeline:"
      ]
    },
    {
      "cell_type": "code",
      "execution_count": null,
      "metadata": {
        "id": "RZJg6YHId300",
        "colab": {
          "base_uri": "https://localhost:8080/",
          "height": 688
        },
        "outputId": "82370050-a3b1-4c88-ca3a-7afcc2cd1769"
      },
      "outputs": [
        {
          "output_type": "display_data",
          "data": {
            "image/png": "[encoded data removed]",
            "text/plain": [
              "<IPython.core.display.Image object>"
            ]
          },
          "metadata": {}
        }
      ],
      "source": [
        "pipeline.show()"
      ]
    },
    {
      "cell_type": "markdown",
      "metadata": {
        "id": "kV_kexTjImpo"
      },
      "source": [
        "## Testing the Pipeline\n",
        "\n",
        "Run the pipeline with an example passage that you want to convert into a JSON format and the `json_schema` you have created for `CitiesData`. For the given example passage, the generated JSON object should be like:\n",
        "```json\n",
        "{\n",
        "  \"cities\": [\n",
        "    {\n",
        "      \"name\": \"Berlin\",\n",
        "      \"country\": \"Germany\",\n",
        "      \"population\": 3850809\n",
        "    },\n",
        "    {\n",
        "      \"name\": \"Paris\",\n",
        "      \"country\": \"France\",\n",
        "      \"population\": 2161000\n",
        "    },\n",
        "    {\n",
        "      \"name\": \"Lisbon\",\n",
        "      \"country\": \"Portugal\",\n",
        "      \"population\": 504718\n",
        "    }\n",
        "  ]\n",
        "}\n",
        "```\n",
        "The output of the LLM should be compliant with the `json_schema`. If the LLM doesn't generate the correct JSON object, it will loop back and try again."
      ]
    },
    {
      "cell_type": "code",
      "execution_count": null,
      "metadata": {
        "id": "yIoMedb6eKia",
        "colab": {
          "base_uri": "https://localhost:8080/",
          "height": 1000
        },
        "outputId": "f446d956-8423-4cf0-aa16-3b01c1c7d1a2"
      },
      "outputs": [
        {
          "output_type": "stream",
          "name": "stdout",
          "text": [
            "\u001b[31mOutputValidator at Iteration 1: Invalid JSON from LLM - Let's try again.\n",
            "Output from LLM:\n",
            " ```\n",
            "{\n",
            "  \"data\": {\n",
            "    \"cities\": [\n",
            "      {\n",
            "        \"name\": \"Berlin\",\n",
            "        \"population\": 3850809,\n",
            "        \"country\": \"Germany\"\n",
            "      },\n",
            "      {\n",
            "        \"name\": \"Paris\",\n",
            "        \"population\": 2161000,\n",
            "        \"country\": \"France\"\n",
            "      },\n",
            "      {\n",
            "        \"name\": \"Lisbon\",\n",
            "        \"population\": 504718\n",
            "      }\n",
            "    ]\n",
            "  }\n",
            "}\n",
            "``` \n",
            "Error from OutputValidator: Expecting value: line 1 column 1 (char 0)\n",
            "\u001b[31mOutputValidator at Iteration 2: Invalid JSON from LLM - Let's try again.\n",
            "Output from LLM:\n",
            " ```\n",
            "{\n",
            "  \"data\": {\n",
            "    \"cities\": [\n",
            "      {\n",
            "        \"name\": \"Berlin\",\n",
            "        \"population\": 3850809,\n",
            "        \"country\": \"Germany\"\n",
            "      },\n",
            "      {\n",
            "        \"name\": \"Paris\",\n",
            "        \"population\": 2161000,\n",
            "        \"country\": \"France\"\n",
            "      },\n",
            "      {\n",
            "        \"name\": \"Lisbon\",\n",
            "        \"population\": 504718\n",
            "      }\n",
            "    ]\n",
            "  }\n",
            "}\n",
            "``` \n",
            "Error from OutputValidator: Expecting value: line 1 column 1 (char 0)\n",
            "\u001b[31mOutputValidator at Iteration 3: Invalid JSON from LLM - Let's try again.\n",
            "Output from LLM:\n",
            " ```\n",
            "{\n",
            "  \"data\": {\n",
            "    \"cities\": [\n",
            "      {\n",
            "        \"name\": \"Berlin\",\n",
            "        \"population\": 3850809,\n",
            "        \"country\": \"Germany\"\n",
            "      },\n",
            "      {\n",
            "        \"name\": \"Paris\",\n",
            "        \"population\": 2161000,\n",
            "        \"country\": \"France\"\n",
            "      },\n",
            "      {\n",
            "        \"name\": \"Lisbon\",\n",
            "        \"population\": 504718\n",
            "      }\n",
            "    ]\n",
            "  }\n",
            "}\n",
            "``` \n",
            "Error from OutputValidator: Expecting value: line 1 column 1 (char 0)\n",
            "\u001b[31mOutputValidator at Iteration 4: Invalid JSON from LLM - Let's try again.\n",
            "Output from LLM:\n",
            " {\n",
            "  \"data\": {\n",
            "    \"cities\": [\n",
            "      {\n",
            "        \"name\": \"Berlin\",\n",
            "        \"population\": 3850809,\n",
            "        \"country\": \"Germany\"\n",
            "      },\n",
            "      {\n",
            "        \"name\": \"Paris\",\n",
            "        \"population\": 2161000,\n",
            "        \"country\": \"France\"\n",
            "      },\n",
            "      {\n",
            "        \"name\": \"Lisbon\",\n",
            "        \"population\": 504718\n",
            "      }\n",
            "    ]\n",
            "  }\n",
            "}\n",
            "``` \n",
            "Error from OutputValidator: Extra data: line 21 column 1 (char 317)\n",
            "\u001b[31mOutputValidator at Iteration 5: Invalid JSON from LLM - Let's try again.\n",
            "Output from LLM:\n",
            " ```\n",
            "{\n",
            "  \"data\": {\n",
            "    \"cities\": [\n",
            "      {\n",
            "        \"name\": \"Berlin\",\n",
            "        \"population\": 3850809,\n",
            "        \"country\": \"Germany\"\n",
            "      },\n",
            "      {\n",
            "        \"name\": \"Paris\",\n",
            "        \"population\": 2161000,\n",
            "        \"country\": \"France\"\n",
            "      },\n",
            "      {\n",
            "        \"name\": \"Lisbon\",\n",
            "        \"population\": 504718\n",
            "      }\n",
            "    ]\n",
            "  }\n",
            "}\n",
            "``` \n",
            "Error from OutputValidator: Expecting value: line 1 column 1 (char 0)\n",
            "\u001b[31mOutputValidator at Iteration 6: Invalid JSON from LLM - Let's try again.\n",
            "Output from LLM:\n",
            " {\n",
            "  \"data\": {\n",
            "    \"cities\": [\n",
            "      {\n",
            "        \"name\": \"Berlin\",\n",
            "        \"population\": 3850809,\n",
            "        \"country\": \"Germany\"\n",
            "      },\n",
            "      {\n",
            "        \"name\": \"Paris\",\n",
            "        \"population\": 2161000,\n",
            "        \"country\": \"France\"\n",
            "      },\n",
            "      {\n",
            "        \"name\": \"Lisbon\",\n",
            "        \"population\": 504718\n",
            "      }\n",
            "    ]\n",
            "  }\n",
            "}\n",
            " \n",
            "Error from OutputValidator: 1 validation error for CitiesData\n",
            "cities\n",
            "  Field required [type=missing, input_value={'data': {'cities': [{'na...'population': 504718}]}}, input_type=dict]\n",
            "    For further information visit https://errors.pydantic.dev/2.7/v/missing\n"
          ]
        },
        {
          "output_type": "error",
          "ename": "PipelineMaxLoops",
          "evalue": "Maximum loops count (5) exceeded for component 'prompt_builder'",
          "traceback": [
            "\u001b[0;31m---------------------------------------------------------------------------\u001b[0m",
            "\u001b[0;31mPipelineMaxLoops\u001b[0m                          Traceback (most recent call last)",
            "\u001b[0;32m<ipython-input-19-85d895fae62f>\u001b[0m in \u001b[0;36m<cell line: 2>\u001b[0;34m()\u001b[0m\n\u001b[1;32m      1\u001b[0m \u001b[0mpassage\u001b[0m \u001b[0;34m=\u001b[0m \u001b[0;34m\"Berlin is the capital of Germany. It has a population of 3,850,809. Paris, France's capital, has 2.161 million residents. Lisbon is the capital and the largest city of Portugal with the population of 504,718.\"\u001b[0m\u001b[0;34m\u001b[0m\u001b[0;34m\u001b[0m\u001b[0m\n\u001b[0;32m----> 2\u001b[0;31m \u001b[0mresult\u001b[0m \u001b[0;34m=\u001b[0m \u001b[0mpipeline\u001b[0m\u001b[0;34m.\u001b[0m\u001b[0mrun\u001b[0m\u001b[0;34m(\u001b[0m\u001b[0;34m{\u001b[0m\u001b[0;34m\"prompt_builder\"\u001b[0m\u001b[0;34m:\u001b[0m \u001b[0;34m{\u001b[0m\u001b[0;34m\"passage\"\u001b[0m\u001b[0;34m:\u001b[0m \u001b[0mpassage\u001b[0m\u001b[0;34m,\u001b[0m \u001b[0;34m\"schema\"\u001b[0m\u001b[0;34m:\u001b[0m \u001b[0mjson_schema\u001b[0m\u001b[0;34m}\u001b[0m\u001b[0;34m}\u001b[0m\u001b[0;34m)\u001b[0m\u001b[0;34m\u001b[0m\u001b[0;34m\u001b[0m\u001b[0m\n\u001b[0m",
            "\u001b[0;32m/usr/local/lib/python3.10/dist-packages/haystack/core/pipeline/pipeline.py\u001b[0m in \u001b[0;36mrun\u001b[0;34m(self, data, debug, include_outputs_from)\u001b[0m\n\u001b[1;32m    833\u001b[0m                     \u001b[0;32mif\u001b[0m \u001b[0mself\u001b[0m\u001b[0;34m.\u001b[0m\u001b[0mgraph\u001b[0m\u001b[0;34m.\u001b[0m\u001b[0mnodes\u001b[0m\u001b[0;34m[\u001b[0m\u001b[0mname\u001b[0m\u001b[0;34m]\u001b[0m\u001b[0;34m[\u001b[0m\u001b[0;34m\"visits\"\u001b[0m\u001b[0;34m]\u001b[0m \u001b[0;34m>\u001b[0m \u001b[0mself\u001b[0m\u001b[0;34m.\u001b[0m\u001b[0mmax_loops_allowed\u001b[0m\u001b[0;34m:\u001b[0m\u001b[0;34m\u001b[0m\u001b[0;34m\u001b[0m\u001b[0m\n\u001b[1;32m    834\u001b[0m                         \u001b[0mmsg\u001b[0m \u001b[0;34m=\u001b[0m \u001b[0;34mf\"Maximum loops count ({self.max_loops_allowed}) exceeded for component '{name}'\"\u001b[0m\u001b[0;34m\u001b[0m\u001b[0;34m\u001b[0m\u001b[0m\n\u001b[0;32m--> 835\u001b[0;31m                         \u001b[0;32mraise\u001b[0m \u001b[0mPipelineMaxLoops\u001b[0m\u001b[0;34m(\u001b[0m\u001b[0mmsg\u001b[0m\u001b[0;34m)\u001b[0m\u001b[0;34m\u001b[0m\u001b[0;34m\u001b[0m\u001b[0m\n\u001b[0m\u001b[1;32m    836\u001b[0m                     \u001b[0;31m# This component has all the inputs it needs to run\u001b[0m\u001b[0;34m\u001b[0m\u001b[0;34m\u001b[0m\u001b[0m\n\u001b[1;32m    837\u001b[0m                     with tracing.tracer.trace(\n",
            "\u001b[0;31mPipelineMaxLoops\u001b[0m: Maximum loops count (5) exceeded for component 'prompt_builder'"
          ]
        }
      ],
      "source": [
        "passage = \"Berlin is the capital of Germany. It has a population of 3,850,809. Paris, France's capital, has 2.161 million residents. Lisbon is the capital and the largest city of Portugal with the population of 504,718.\"\n",
        "result = pipeline.run({\"prompt_builder\": {\"passage\": passage, \"schema\": json_schema}})"
      ]
    },
    {
      "cell_type": "markdown",
      "metadata": {
        "id": "WWxmPgADS_Fa"
      },
      "source": [
        "> If you encounter `PipelineMaxLoops: Maximum loops count (5) exceeded for component 'prompt_builder'.` error, consider increasing the maximum loop count or simply rerun the pipeline."
      ]
    },
    {
      "cell_type": "markdown",
      "metadata": {
        "id": "eWPawSjgSJAM"
      },
      "source": [
        "### Print the Correct JSON\n",
        "If you didn't get any error, you can now print the corrected JSON."
      ]
    },
    {
      "cell_type": "code",
      "execution_count": null,
      "metadata": {
        "id": "BVO47gXQQnDC"
      },
      "outputs": [],
      "source": [
        "valid_reply = result[\"output_validator\"][\"valid_replies\"][0]\n",
        "valid_json = json.loads(valid_reply)\n",
        "print(valid_json)"
      ]
    },
    {
      "cell_type": "markdown",
      "metadata": {
        "id": "Egz_4h2vI_QL"
      },
      "source": [
        "## What's next\n",
        "\n",
        "🎉 Congratulations! You've built a system that generates structured JSON out of unstructured text passages, and auto-corrects it by using the looping functionality of Haystack pipelines.\n",
        "\n",
        "To stay up to date on the latest Haystack developments, you can 🗞️ [subscribe to our newsletter](https://landing.deepset.ai/haystack-community-updates) and 👾[join Haystack discord community](https://discord.gg/haystack).\n",
        "\n",
        "Thanks for reading!"
      ]
    },
    {
      "cell_type": "code",
      "source": [],
      "metadata": {
        "id": "LqP-muMHFgY7"
      },
      "execution_count": null,
      "outputs": []
    }
  ],
  "metadata": {
    "accelerator": "GPU",
    "colab": {
      "gpuType": "T4",
      "provenance": [],
      "include_colab_link": true
    },
    "kernelspec": {
      "display_name": "Python 3",
      "name": "python3"
    },
    "language_info": {
      "name": "python"
    }
  },
  "nbformat": 4,
  "nbformat_minor": 0
}