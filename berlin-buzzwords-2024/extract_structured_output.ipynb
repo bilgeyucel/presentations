{
  "cells": [
    {
      "cell_type": "markdown",
      "metadata": {
        "id": "view-in-github",
        "colab_type": "text"
      },
      "source": [
        "<a href=\"https://colab.research.google.com/github/bilgeyucel/presentations/blob/main/berlin-buzzwords-2024/extract_structured_output.ipynb\" target=\"_parent\"><img src=\"https://colab.research.google.com/assets/colab-badge.svg\" alt=\"Open In Colab\"/></a>"
      ]
    },
    {
      "cell_type": "markdown",
      "source": [
        "# Extracting Structured Output from Unstructured Text\n",
        "\n",
        "A notebook to generate a JSON from an unstructed text using [Haystack](https://github.com/deepset-ai/haystack), the open source LLM framework.\n",
        "\n",
        "by Bilge Yucel [Twitter](https://twitter.com/bilgeycl), [Linkedin](https://www.linkedin.com/in/bilge-yucel/)\n",
        "\n",
        "\n",
        "📚 Useful Resources\n",
        "* [Documentation](https://docs.haystack.deepset.ai/docs?utm_campaign=developer-relations&utm_source=bbuzz&utm_medium=colab)\n",
        "* [Website](https://haystack.deepset.ai?utm_campaign=developer-relations&utm_source=bbuzzy&utm_medium=colab)"
      ],
      "metadata": {
        "id": "_Em_qNWmOuse"
      }
    },
    {
      "cell_type": "markdown",
      "metadata": {
        "id": "jmiAHh1oGsKI"
      },
      "source": [
        "## Preparing the Colab Environment\n",
        "\n",
        "Enable the debug mode of logging:"
      ]
    },
    {
      "cell_type": "code",
      "execution_count": 1,
      "metadata": {
        "id": "Vor9IHuNRvEh"
      },
      "outputs": [],
      "source": [
        "import logging\n",
        "\n",
        "logging.basicConfig(format=\"%(levelname)s - %(name)s -  %(message)s\", level=logging.WARNING)\n",
        "logging.getLogger(\"haystack.pipeline.pipeline\").setLevel(logging.DEBUG)"
      ]
    },
    {
      "cell_type": "markdown",
      "metadata": {
        "id": "ljbWiyJkKiPw"
      },
      "source": [
        "## Installing Dependencies\n",
        "Install Haystack, cohere-haystack (optional) and [colorama](https://pypi.org/project/colorama/) with pip:"
      ]
    },
    {
      "cell_type": "code",
      "execution_count": 2,
      "metadata": {
        "colab": {
          "base_uri": "https://localhost:8080/"
        },
        "id": "kcc1AlLQd_jI",
        "outputId": "e25f04a4-3a80-4b72-8c86-e222d39013a3"
      },
      "outputs": [
        {
          "output_type": "stream",
          "name": "stdout",
          "text": [
            "Collecting haystack-ai\n",
            "  Downloading haystack_ai-2.2.1-py3-none-any.whl (345 kB)\n",
            "     ━━━━━━━━━━━━━━━━━━━━━━━━━━━━━━━━━━━━━━━━ 345.2/345.2 kB 4.8 MB/s eta 0:00:00\n",
            "Requirement already satisfied: jinja2 in /usr/local/lib/python3.10/dist-packages (from haystack-ai) (3.1.4)\n",
            "Collecting lazy-imports (from haystack-ai)\n",
            "  Downloading lazy_imports-0.3.1-py3-none-any.whl (12 kB)\n",
            "Requirement already satisfied: more-itertools in /usr/local/lib/python3.10/dist-packages (from haystack-ai) (10.1.0)\n",
            "Requirement already satisfied: networkx in /usr/local/lib/python3.10/dist-packages (from haystack-ai) (3.3)\n",
            "Requirement already satisfied: numpy in /usr/local/lib/python3.10/dist-packages (from haystack-ai) (1.25.2)\n",
            "Collecting openai>=1.1.0 (from haystack-ai)\n",
            "  Downloading openai-1.33.0-py3-none-any.whl (325 kB)\n",
            "     ━━━━━━━━━━━━━━━━━━━━━━━━━━━━━━━━━━━━━━━━ 325.5/325.5 kB 8.6 MB/s eta 0:00:00\n",
            "Requirement already satisfied: pandas in /usr/local/lib/python3.10/dist-packages (from haystack-ai) (2.0.3)\n",
            "Collecting posthog (from haystack-ai)\n",
            "  Downloading posthog-3.5.0-py2.py3-none-any.whl (41 kB)\n",
            "     ━━━━━━━━━━━━━━━━━━━━━━━━━━━━━━━━━━━━━━━━ 41.3/41.3 kB 4.4 MB/s eta 0:00:00\n",
            "Requirement already satisfied: python-dateutil in /usr/local/lib/python3.10/dist-packages (from haystack-ai) (2.8.2)\n",
            "Requirement already satisfied: pyyaml in /usr/local/lib/python3.10/dist-packages (from haystack-ai) (6.0.1)\n",
            "Requirement already satisfied: requests in /usr/local/lib/python3.10/dist-packages (from haystack-ai) (2.31.0)\n",
            "Requirement already satisfied: tenacity in /usr/local/lib/python3.10/dist-packages (from haystack-ai) (8.3.0)\n",
            "Requirement already satisfied: tqdm in /usr/local/lib/python3.10/dist-packages (from haystack-ai) (4.66.4)\n",
            "Requirement already satisfied: typing-extensions>=4.7 in /usr/local/lib/python3.10/dist-packages (from haystack-ai) (4.12.1)\n",
            "Requirement already satisfied: anyio<5,>=3.5.0 in /usr/local/lib/python3.10/dist-packages (from openai>=1.1.0->haystack-ai) (3.7.1)\n",
            "Requirement already satisfied: distro<2,>=1.7.0 in /usr/lib/python3/dist-packages (from openai>=1.1.0->haystack-ai) (1.7.0)\n",
            "Collecting httpx<1,>=0.23.0 (from openai>=1.1.0->haystack-ai)\n",
            "  Downloading httpx-0.27.0-py3-none-any.whl (75 kB)\n",
            "     ━━━━━━━━━━━━━━━━━━━━━━━━━━━━━━━━━━━━━━━━ 75.6/75.6 kB 5.8 MB/s eta 0:00:00\n",
            "Requirement already satisfied: pydantic<3,>=1.9.0 in /usr/local/lib/python3.10/dist-packages (from openai>=1.1.0->haystack-ai) (2.7.3)\n",
            "Requirement already satisfied: sniffio in /usr/local/lib/python3.10/dist-packages (from openai>=1.1.0->haystack-ai) (1.3.1)\n",
            "Requirement already satisfied: MarkupSafe>=2.0 in /usr/local/lib/python3.10/dist-packages (from jinja2->haystack-ai) (2.1.5)\n",
            "Requirement already satisfied: pytz>=2020.1 in /usr/local/lib/python3.10/dist-packages (from pandas->haystack-ai) (2023.4)\n",
            "Requirement already satisfied: tzdata>=2022.1 in /usr/local/lib/python3.10/dist-packages (from pandas->haystack-ai) (2024.1)\n",
            "Requirement already satisfied: six>=1.5 in /usr/local/lib/python3.10/dist-packages (from python-dateutil->haystack-ai) (1.16.0)\n",
            "Collecting monotonic>=1.5 (from posthog->haystack-ai)\n",
            "  Downloading monotonic-1.6-py2.py3-none-any.whl (8.2 kB)\n",
            "Collecting backoff>=1.10.0 (from posthog->haystack-ai)\n",
            "  Downloading backoff-2.2.1-py3-none-any.whl (15 kB)\n",
            "Requirement already satisfied: charset-normalizer<4,>=2 in /usr/local/lib/python3.10/dist-packages (from requests->haystack-ai) (3.3.2)\n",
            "Requirement already satisfied: idna<4,>=2.5 in /usr/local/lib/python3.10/dist-packages (from requests->haystack-ai) (3.7)\n",
            "Requirement already satisfied: urllib3<3,>=1.21.1 in /usr/local/lib/python3.10/dist-packages (from requests->haystack-ai) (2.0.7)\n",
            "Requirement already satisfied: certifi>=2017.4.17 in /usr/local/lib/python3.10/dist-packages (from requests->haystack-ai) (2024.6.2)\n",
            "Requirement already satisfied: exceptiongroup in /usr/local/lib/python3.10/dist-packages (from anyio<5,>=3.5.0->openai>=1.1.0->haystack-ai) (1.2.1)\n",
            "Collecting httpcore==1.* (from httpx<1,>=0.23.0->openai>=1.1.0->haystack-ai)\n",
            "  Downloading httpcore-1.0.5-py3-none-any.whl (77 kB)\n",
            "     ━━━━━━━━━━━━━━━━━━━━━━━━━━━━━━━━━━━━━━━━ 77.9/77.9 kB 7.3 MB/s eta 0:00:00\n",
            "Collecting h11<0.15,>=0.13 (from httpcore==1.*->httpx<1,>=0.23.0->openai>=1.1.0->haystack-ai)\n",
            "  Downloading h11-0.14.0-py3-none-any.whl (58 kB)\n",
            "     ━━━━━━━━━━━━━━━━━━━━━━━━━━━━━━━━━━━━━━━━ 58.3/58.3 kB 7.5 MB/s eta 0:00:00\n",
            "Requirement already satisfied: annotated-types>=0.4.0 in /usr/local/lib/python3.10/dist-packages (from pydantic<3,>=1.9.0->openai>=1.1.0->haystack-ai) (0.7.0)\n",
            "Requirement already satisfied: pydantic-core==2.18.4 in /usr/local/lib/python3.10/dist-packages (from pydantic<3,>=1.9.0->openai>=1.1.0->haystack-ai) (2.18.4)\n",
            "Installing collected packages: monotonic, lazy-imports, h11, backoff, posthog, httpcore, httpx, openai, haystack-ai\n",
            "Successfully installed backoff-2.2.1 h11-0.14.0 haystack-ai-2.2.1 httpcore-1.0.5 httpx-0.27.0 lazy-imports-0.3.1 monotonic-1.6 openai-1.33.0 posthog-3.5.0\n",
            "Collecting colorama\n",
            "  Downloading colorama-0.4.6-py2.py3-none-any.whl (25 kB)\n",
            "Installing collected packages: colorama\n",
            "Successfully installed colorama-0.4.6\n",
            "Collecting cohere-haystack\n",
            "  Downloading cohere_haystack-1.1.0-py3-none-any.whl (20 kB)\n",
            "Collecting cohere==5.* (from cohere-haystack)\n",
            "  Downloading cohere-5.5.6-py3-none-any.whl (165 kB)\n",
            "     ━━━━━━━━━━━━━━━━━━━━━━━━━━━━━━━━━━━━━━━━ 165.1/165.1 kB 4.5 MB/s eta 0:00:00\n",
            "Requirement already satisfied: haystack-ai in /usr/local/lib/python3.10/dist-packages (from cohere-haystack) (2.2.1)\n",
            "Collecting boto3<2.0.0,>=1.34.0 (from cohere==5.*->cohere-haystack)\n",
            "  Downloading boto3-1.34.122-py3-none-any.whl (139 kB)\n",
            "     ━━━━━━━━━━━━━━━━━━━━━━━━━━━━━━━━━━━━━━━━ 139.3/139.3 kB 9.7 MB/s eta 0:00:00\n",
            "Collecting fastavro<2.0.0,>=1.9.4 (from cohere==5.*->cohere-haystack)\n",
            "  Downloading fastavro-1.9.4-cp310-cp310-manylinux_2_17_x86_64.manylinux2014_x86_64.whl (3.1 MB)\n",
            "     ━━━━━━━━━━━━━━━━━━━━━━━━━━━━━━━━━━━━━━━━ 3.1/3.1 MB 62.6 MB/s eta 0:00:00\n",
            "Requirement already satisfied: httpx>=0.21.2 in /usr/local/lib/python3.10/dist-packages (from cohere==5.*->cohere-haystack) (0.27.0)\n",
            "Collecting httpx-sse<0.5.0,>=0.4.0 (from cohere==5.*->cohere-haystack)\n",
            "  Downloading httpx_sse-0.4.0-py3-none-any.whl (7.8 kB)\n",
            "Collecting parameterized<0.10.0,>=0.9.0 (from cohere==5.*->cohere-haystack)\n",
            "  Downloading parameterized-0.9.0-py2.py3-none-any.whl (20 kB)\n",
            "Requirement already satisfied: pydantic>=1.9.2 in /usr/local/lib/python3.10/dist-packages (from cohere==5.*->cohere-haystack) (2.7.3)\n",
            "Requirement already satisfied: requests<3.0.0,>=2.0.0 in /usr/local/lib/python3.10/dist-packages (from cohere==5.*->cohere-haystack) (2.31.0)\n",
            "Collecting tokenizers<0.16,>=0.15 (from cohere==5.*->cohere-haystack)\n",
            "  Downloading tokenizers-0.15.2-cp310-cp310-manylinux_2_17_x86_64.manylinux2014_x86_64.whl (3.6 MB)\n",
            "     ━━━━━━━━━━━━━━━━━━━━━━━━━━━━━━━━━━━━━━━━ 3.6/3.6 MB 105.6 MB/s eta 0:00:00\n",
            "Collecting types-requests<3.0.0,>=2.0.0 (from cohere==5.*->cohere-haystack)\n",
            "  Downloading types_requests-2.32.0.20240602-py3-none-any.whl (15 kB)\n",
            "Requirement already satisfied: typing_extensions>=4.0.0 in /usr/local/lib/python3.10/dist-packages (from cohere==5.*->cohere-haystack) (4.12.1)\n",
            "Requirement already satisfied: jinja2 in /usr/local/lib/python3.10/dist-packages (from haystack-ai->cohere-haystack) (3.1.4)\n",
            "Requirement already satisfied: lazy-imports in /usr/local/lib/python3.10/dist-packages (from haystack-ai->cohere-haystack) (0.3.1)\n",
            "Requirement already satisfied: more-itertools in /usr/local/lib/python3.10/dist-packages (from haystack-ai->cohere-haystack) (10.1.0)\n",
            "Requirement already satisfied: networkx in /usr/local/lib/python3.10/dist-packages (from haystack-ai->cohere-haystack) (3.3)\n",
            "Requirement already satisfied: numpy in /usr/local/lib/python3.10/dist-packages (from haystack-ai->cohere-haystack) (1.25.2)\n",
            "Requirement already satisfied: openai>=1.1.0 in /usr/local/lib/python3.10/dist-packages (from haystack-ai->cohere-haystack) (1.33.0)\n",
            "Requirement already satisfied: pandas in /usr/local/lib/python3.10/dist-packages (from haystack-ai->cohere-haystack) (2.0.3)\n",
            "Requirement already satisfied: posthog in /usr/local/lib/python3.10/dist-packages (from haystack-ai->cohere-haystack) (3.5.0)\n",
            "Requirement already satisfied: python-dateutil in /usr/local/lib/python3.10/dist-packages (from haystack-ai->cohere-haystack) (2.8.2)\n",
            "Requirement already satisfied: pyyaml in /usr/local/lib/python3.10/dist-packages (from haystack-ai->cohere-haystack) (6.0.1)\n",
            "Requirement already satisfied: tenacity in /usr/local/lib/python3.10/dist-packages (from haystack-ai->cohere-haystack) (8.3.0)\n",
            "Requirement already satisfied: tqdm in /usr/local/lib/python3.10/dist-packages (from haystack-ai->cohere-haystack) (4.66.4)\n",
            "Collecting botocore<1.35.0,>=1.34.122 (from boto3<2.0.0,>=1.34.0->cohere==5.*->cohere-haystack)\n",
            "  Downloading botocore-1.34.122-py3-none-any.whl (12.3 MB)\n",
            "     ━━━━━━━━━━━━━━━━━━━━━━━━━━━━━━━━━━━━━━━━ 12.3/12.3 MB 50.3 MB/s eta 0:00:00\n",
            "Collecting jmespath<2.0.0,>=0.7.1 (from boto3<2.0.0,>=1.34.0->cohere==5.*->cohere-haystack)\n",
            "  Downloading jmespath-1.0.1-py3-none-any.whl (20 kB)\n",
            "Collecting s3transfer<0.11.0,>=0.10.0 (from boto3<2.0.0,>=1.34.0->cohere==5.*->cohere-haystack)\n",
            "  Downloading s3transfer-0.10.1-py3-none-any.whl (82 kB)\n",
            "     ━━━━━━━━━━━━━━━━━━━━━━━━━━━━━━━━━━━━━━━━ 82.2/82.2 kB 9.4 MB/s eta 0:00:00\n",
            "Requirement already satisfied: anyio in /usr/local/lib/python3.10/dist-packages (from httpx>=0.21.2->cohere==5.*->cohere-haystack) (3.7.1)\n",
            "Requirement already satisfied: certifi in /usr/local/lib/python3.10/dist-packages (from httpx>=0.21.2->cohere==5.*->cohere-haystack) (2024.6.2)\n",
            "Requirement already satisfied: httpcore==1.* in /usr/local/lib/python3.10/dist-packages (from httpx>=0.21.2->cohere==5.*->cohere-haystack) (1.0.5)\n",
            "Requirement already satisfied: idna in /usr/local/lib/python3.10/dist-packages (from httpx>=0.21.2->cohere==5.*->cohere-haystack) (3.7)\n",
            "Requirement already satisfied: sniffio in /usr/local/lib/python3.10/dist-packages (from httpx>=0.21.2->cohere==5.*->cohere-haystack) (1.3.1)\n",
            "Requirement already satisfied: h11<0.15,>=0.13 in /usr/local/lib/python3.10/dist-packages (from httpcore==1.*->httpx>=0.21.2->cohere==5.*->cohere-haystack) (0.14.0)\n",
            "Requirement already satisfied: distro<2,>=1.7.0 in /usr/lib/python3/dist-packages (from openai>=1.1.0->haystack-ai->cohere-haystack) (1.7.0)\n",
            "Requirement already satisfied: annotated-types>=0.4.0 in /usr/local/lib/python3.10/dist-packages (from pydantic>=1.9.2->cohere==5.*->cohere-haystack) (0.7.0)\n",
            "Requirement already satisfied: pydantic-core==2.18.4 in /usr/local/lib/python3.10/dist-packages (from pydantic>=1.9.2->cohere==5.*->cohere-haystack) (2.18.4)\n",
            "Requirement already satisfied: charset-normalizer<4,>=2 in /usr/local/lib/python3.10/dist-packages (from requests<3.0.0,>=2.0.0->cohere==5.*->cohere-haystack) (3.3.2)\n",
            "Requirement already satisfied: urllib3<3,>=1.21.1 in /usr/local/lib/python3.10/dist-packages (from requests<3.0.0,>=2.0.0->cohere==5.*->cohere-haystack) (2.0.7)\n",
            "Requirement already satisfied: huggingface_hub<1.0,>=0.16.4 in /usr/local/lib/python3.10/dist-packages (from tokenizers<0.16,>=0.15->cohere==5.*->cohere-haystack) (0.23.2)\n",
            "Requirement already satisfied: MarkupSafe>=2.0 in /usr/local/lib/python3.10/dist-packages (from jinja2->haystack-ai->cohere-haystack) (2.1.5)\n",
            "Requirement already satisfied: pytz>=2020.1 in /usr/local/lib/python3.10/dist-packages (from pandas->haystack-ai->cohere-haystack) (2023.4)\n",
            "Requirement already satisfied: tzdata>=2022.1 in /usr/local/lib/python3.10/dist-packages (from pandas->haystack-ai->cohere-haystack) (2024.1)\n",
            "Requirement already satisfied: six>=1.5 in /usr/local/lib/python3.10/dist-packages (from python-dateutil->haystack-ai->cohere-haystack) (1.16.0)\n",
            "Requirement already satisfied: monotonic>=1.5 in /usr/local/lib/python3.10/dist-packages (from posthog->haystack-ai->cohere-haystack) (1.6)\n",
            "Requirement already satisfied: backoff>=1.10.0 in /usr/local/lib/python3.10/dist-packages (from posthog->haystack-ai->cohere-haystack) (2.2.1)\n",
            "Requirement already satisfied: exceptiongroup in /usr/local/lib/python3.10/dist-packages (from anyio->httpx>=0.21.2->cohere==5.*->cohere-haystack) (1.2.1)\n",
            "Requirement already satisfied: filelock in /usr/local/lib/python3.10/dist-packages (from huggingface_hub<1.0,>=0.16.4->tokenizers<0.16,>=0.15->cohere==5.*->cohere-haystack) (3.14.0)\n",
            "Requirement already satisfied: fsspec>=2023.5.0 in /usr/local/lib/python3.10/dist-packages (from huggingface_hub<1.0,>=0.16.4->tokenizers<0.16,>=0.15->cohere==5.*->cohere-haystack) (2023.6.0)\n",
            "Requirement already satisfied: packaging>=20.9 in /usr/local/lib/python3.10/dist-packages (from huggingface_hub<1.0,>=0.16.4->tokenizers<0.16,>=0.15->cohere==5.*->cohere-haystack) (24.0)\n",
            "Installing collected packages: types-requests, parameterized, jmespath, httpx-sse, fastavro, botocore, tokenizers, s3transfer, boto3, cohere, cohere-haystack\n",
            "  Attempting uninstall: tokenizers\n",
            "    Found existing installation: tokenizers 0.19.1\n",
            "    Uninstalling tokenizers-0.19.1:\n",
            "      Successfully uninstalled tokenizers-0.19.1\n",
            "Successfully installed boto3-1.34.122 botocore-1.34.122 cohere-5.5.6 cohere-haystack-1.1.0 fastavro-1.9.4 httpx-sse-0.4.0 jmespath-1.0.1 parameterized-0.9.0 s3transfer-0.10.1 tokenizers-0.15.2 types-requests-2.32.0.20240602\n"
          ]
        },
        {
          "output_type": "stream",
          "name": "stderr",
          "text": [
            "ERROR: pip's dependency resolver does not currently take into account all the packages that are installed. This behaviour is the source of the following dependency conflicts.\n",
            "transformers 4.41.2 requires tokenizers<0.20,>=0.19, but you have tokenizers 0.15.2 which is incompatible.\n"
          ]
        }
      ],
      "source": [
        "%%bash\n",
        "\n",
        "pip install haystack-ai\n",
        "pip install colorama\n",
        "pip install cohere-haystack"
      ]
    },
    {
      "cell_type": "markdown",
      "metadata": {
        "id": "Cmjfa8CiCeFl"
      },
      "source": [
        "## Defining a Schema to Parse the JSON Object\n",
        "\n",
        "Define a simple JSON schema for the data you want to extract from a text passsage using the LLM. As the first step, define two [Pydantic models](https://docs.pydantic.dev/1.10/usage/models/), `City` and `CitiesData`, with suitable fields and types."
      ]
    },
    {
      "cell_type": "code",
      "execution_count": 3,
      "metadata": {
        "id": "xwKrDOOGdaAz"
      },
      "outputs": [],
      "source": [
        "from typing import List, Optional\n",
        "from pydantic import BaseModel\n",
        "\n",
        "\n",
        "class City(BaseModel):\n",
        "    name: str\n",
        "    country: str\n",
        "    population: int\n",
        "    landmarks: Optional[List[str]]\n",
        "\n",
        "\n",
        "class CitiesData(BaseModel):\n",
        "    cities: List[City]"
      ]
    },
    {
      "cell_type": "code",
      "source": [
        "CitiesData.model_json_schema(mode='serialization')"
      ],
      "metadata": {
        "colab": {
          "base_uri": "https://localhost:8080/"
        },
        "id": "gcIvLWxfp0v2",
        "outputId": "8416a93c-ccb5-45ad-8c5c-546513c62fd6"
      },
      "execution_count": 4,
      "outputs": [
        {
          "output_type": "execute_result",
          "data": {
            "text/plain": [
              "{'$defs': {'City': {'properties': {'name': {'title': 'Name', 'type': 'string'},\n",
              "    'country': {'title': 'Country', 'type': 'string'},\n",
              "    'population': {'title': 'Population', 'type': 'integer'},\n",
              "    'landmarks': {'anyOf': [{'items': {'type': 'string'}, 'type': 'array'},\n",
              "      {'type': 'null'}],\n",
              "     'title': 'Landmarks'}},\n",
              "   'required': ['name', 'country', 'population', 'landmarks'],\n",
              "   'title': 'City',\n",
              "   'type': 'object'}},\n",
              " 'properties': {'cities': {'items': {'$ref': '#/$defs/City'},\n",
              "   'title': 'Cities',\n",
              "   'type': 'array'}},\n",
              " 'required': ['cities'],\n",
              " 'title': 'CitiesData',\n",
              " 'type': 'object'}"
            ]
          },
          "metadata": {},
          "execution_count": 4
        }
      ]
    },
    {
      "cell_type": "markdown",
      "metadata": {
        "id": "zv-6-l_PCeFl"
      },
      "source": [
        "> You can change these models according to the format you wish to extract from the text."
      ]
    },
    {
      "cell_type": "markdown",
      "metadata": {
        "id": "ouk1mAOUCeFl"
      },
      "source": [
        "Then, generate a JSON schema from Pydantic models using `model_json_schema()` and convert it to a json string with `json.dumps()`. You will later on use this schema in the prompt to instruct the LLM.\n",
        "\n",
        "To learn more about the JSON schemas, visit [Pydantic Schema](https://docs.pydantic.dev/latest/concepts/json_schema/).  "
      ]
    },
    {
      "cell_type": "code",
      "source": [
        "import json\n",
        "\n",
        "json_schema = json.dumps(CitiesData.model_json_schema(mode='serialization'), indent=2)"
      ],
      "metadata": {
        "id": "bOw_dwn0sr53"
      },
      "execution_count": 5,
      "outputs": []
    },
    {
      "cell_type": "code",
      "source": [
        "json_schema"
      ],
      "metadata": {
        "id": "D8adq3VLkjjI",
        "outputId": "52cc3a34-5811-4ba5-fa6f-94e7c53340e3",
        "colab": {
          "base_uri": "https://localhost:8080/",
          "height": 122
        }
      },
      "execution_count": 6,
      "outputs": [
        {
          "output_type": "execute_result",
          "data": {
            "text/plain": [
              "'{\\n  \"$defs\": {\\n    \"City\": {\\n      \"properties\": {\\n        \"name\": {\\n          \"title\": \"Name\",\\n          \"type\": \"string\"\\n        },\\n        \"country\": {\\n          \"title\": \"Country\",\\n          \"type\": \"string\"\\n        },\\n        \"population\": {\\n          \"title\": \"Population\",\\n          \"type\": \"integer\"\\n        },\\n        \"landmarks\": {\\n          \"anyOf\": [\\n            {\\n              \"items\": {\\n                \"type\": \"string\"\\n              },\\n              \"type\": \"array\"\\n            },\\n            {\\n              \"type\": \"null\"\\n            }\\n          ],\\n          \"title\": \"Landmarks\"\\n        }\\n      },\\n      \"required\": [\\n        \"name\",\\n        \"country\",\\n        \"population\",\\n        \"landmarks\"\\n      ],\\n      \"title\": \"City\",\\n      \"type\": \"object\"\\n    }\\n  },\\n  \"properties\": {\\n    \"cities\": {\\n      \"items\": {\\n        \"$ref\": \"#/$defs/City\"\\n      },\\n      \"title\": \"Cities\",\\n      \"type\": \"array\"\\n    }\\n  },\\n  \"required\": [\\n    \"cities\"\\n  ],\\n  \"title\": \"CitiesData\",\\n  \"type\": \"object\"\\n}'"
            ],
            "application/vnd.google.colaboratory.intrinsic+json": {
              "type": "string"
            }
          },
          "metadata": {},
          "execution_count": 6
        }
      ]
    },
    {
      "cell_type": "markdown",
      "metadata": {
        "id": "KvNhg0bP7kfg"
      },
      "source": [
        "## Creating a Custom Component: OutputValidator\n",
        "\n",
        "`OutputValidator` is a custom component that validates if the JSON object the LLM generates complies with the provided [Pydantic model](https://docs.pydantic.dev/1.10/usage/models/). If it doesn't, OutputValidator returns an error message along with the incorrect JSON object to get it fixed in the next loop.\n",
        "\n",
        "For more details about custom components, see [Creating Custom Components](https://docs.haystack.deepset.ai/v2.0/docs/custom-components)."
      ]
    },
    {
      "cell_type": "code",
      "execution_count": 100,
      "metadata": {
        "id": "yr6D8RN2d7Vy"
      },
      "outputs": [],
      "source": [
        "import json\n",
        "import random\n",
        "import pydantic\n",
        "from pydantic import ValidationError\n",
        "from typing import Optional, List\n",
        "from colorama import Fore\n",
        "from haystack import component\n",
        "\n",
        "# Define the component input parameters\n",
        "@component\n",
        "class OutputValidator:\n",
        "    def __init__(self, pydantic_model: pydantic.BaseModel):\n",
        "        self.pydantic_model = pydantic_model\n",
        "\n",
        "    # Define the component output\n",
        "    @component.output_types(valid_replies=List[str], invalid_replies=Optional[List[str]], error_message=Optional[str])\n",
        "    def run(self, replies: List[str]):\n",
        "\n",
        "        print(\n",
        "                Fore.BLUE\n",
        "                + replies[0]\n",
        "            )\n",
        "        ## Try to parse the LLM's reply ##\n",
        "        # If the LLM's reply is a valid JSON, continue\n",
        "        try:\n",
        "            output_dict = json.loads(replies[0])\n",
        "        except:\n",
        "            print(\n",
        "                Fore.RED\n",
        "                + f\"Invalid JSON from LLM - Let's try again.\\n\"\n",
        "                f\"Error from OutputValidator: Not a valid JSON\"\n",
        "            )\n",
        "            return {\"invalid_replies\": replies[0], \"error_message\": \"Not a valid JSON\"}\n",
        "\n",
        "        # If the LLM's reply complies with the Pydantic model, return \"valid_replies\"\n",
        "        try:\n",
        "            self.pydantic_model.parse_obj(output_dict)\n",
        "            print(\n",
        "                Fore.GREEN\n",
        "                + f\"Valid JSON from LLM - No need for looping: {replies[0]}\"\n",
        "            )\n",
        "            return {\"valid_replies\": replies[0]}\n",
        "\n",
        "        # If the LLM's reply is corrupted or not valid, return \"invalid_replies\" and the \"error_message\" for LLM to try again\n",
        "        except (ValueError, ValidationError) as e:\n",
        "            print(\n",
        "                Fore.RED\n",
        "                + f\"Invalid JSON from LLM - Let's try again.\\n\"\n",
        "                f\"Error from OutputValidator: {e}\"\n",
        "            )\n",
        "            return {\"invalid_replies\": replies[0], \"error_message\": str(e)}"
      ]
    },
    {
      "cell_type": "markdown",
      "metadata": {
        "id": "vQ_TfSBkCeFm"
      },
      "source": [
        "Then, create an OutputValidator instance with `CitiesData` that you have created before."
      ]
    },
    {
      "cell_type": "markdown",
      "metadata": {
        "id": "xcIWKjW4k42r"
      },
      "source": [
        "## Creating the Prompt\n",
        "\n",
        "Write instructions for the LLM for converting a passage into a JSON format. Ensure the instructions explain how to identify and correct errors if the JSON doesn't match the required schema. Once you create the prompt, initialize PromptBuilder to use it.  \n",
        "\n",
        "For information about Jinja2 template and PromptBuilder, see [PromptBuilder](https://docs.haystack.deepset.ai/v2.0/docs/promptbuilder)."
      ]
    },
    {
      "cell_type": "code",
      "execution_count": 128,
      "metadata": {
        "id": "ohPpNALjdVKt"
      },
      "outputs": [],
      "source": [
        "from haystack.components.builders import PromptBuilder\n",
        "\n",
        "prompt_template = \"\"\"\n",
        "Create a JSON object from the information present in this passage: {{passage}}.\n",
        "Only use information that is present in the passage. Follow this Pydantic JSON schema, but only return the actual instances without any additional schema definition:\n",
        "{{schema}}\n",
        "Make sure your response is a dict and not a list.\n",
        "{% if invalid_replies and error_message %}\n",
        "  You already created the following output in a previous attempt: {{invalid_replies}}\n",
        "  However, this doesn't comply with the JSON format above and triggered this Python exception: {{error_message}}\n",
        "  Correct the output and try again. Just return the corrected JSON without any extra text. Just use the information given in the text.\n",
        "{% endif %}\n",
        "\"\"\""
      ]
    },
    {
      "cell_type": "markdown",
      "metadata": {
        "id": "KM9-Zq2FL7Nn"
      },
      "source": [
        "## Initalizing the Generator\n",
        "\n",
        "[OpenAIGenerator](https://docs.haystack.deepset.ai/v2.0/docs/openaigenerator) generates\n",
        "text using OpenAI's `gpt-3.5-turbo` model by default. Set the `OPENAI_API_KEY` variable and provide a model name to the Generator."
      ]
    },
    {
      "cell_type": "code",
      "execution_count": 34,
      "metadata": {
        "id": "Z4cQteIgunUR"
      },
      "outputs": [],
      "source": [
        "import os\n",
        "from google.colab import userdata\n",
        "\n",
        "from haystack.components.generators import OpenAIGenerator, HuggingFaceAPIGenerator\n",
        "\n",
        "if \"OPENAI_API_KEY\" not in os.environ:\n",
        "    os.environ[\"OPENAI_API_KEY\"] = userdata.get('OPENAI_API_KEY')\n",
        "if \"HF_API_TOKEN\" not in os.environ:\n",
        "    os.environ[\"HF_API_TOKEN\"] = userdata.get('HF_API_TOKEN')\n",
        "if \"COHERE_API_KEY\" not in os.environ:\n",
        "    os.environ[\"COHERE_API_KEY\"] = userdata.get('COHERE_API_KEY')\n"
      ]
    },
    {
      "cell_type": "code",
      "source": [
        "generator = OpenAIGenerator()\n",
        "\n",
        "generator = HuggingFaceAPIGenerator(api_type=\"serverless_inference_api\",\n",
        "                                    api_params={\"model\": \"mistralai/Mistral-7B-Instruct-v0.2\"})\n",
        "# mistralai/Mistral-7B-v0.3\n",
        "# mistralai/Mistral-7B-Instruct-v0.1\n",
        "# mistralai/Mistral-7B-Instruct-v0.3\n",
        "# meta-llama/Llama-2-7b-chat-hf\n",
        "# HuggingFaceH4/zephyr-7b-beta\n",
        "# meta-llama/Meta-Llama-3-8B-Instruct"
      ],
      "metadata": {
        "id": "SjHCQpz89Dcs"
      },
      "execution_count": 145,
      "outputs": []
    },
    {
      "cell_type": "code",
      "source": [
        "from haystack_integrations.components.generators.cohere import CohereGenerator\n",
        "\n",
        "generator = CohereGenerator(model=\"c4ai-aya-23\") #command-r c4ai-aya-23"
      ],
      "metadata": {
        "colab": {
          "base_uri": "https://localhost:8080/"
        },
        "id": "5939t4-GiZWr",
        "outputId": "95143271-cc87-416e-9f4d-abe8cb34b6dc"
      },
      "execution_count": 149,
      "outputs": [
        {
          "output_type": "stream",
          "name": "stderr",
          "text": [
            "WARNING:haystack_integrations.components.generators.cohere.generator:The 'generate' API is marked as Legacy and is no longer maintained by Cohere. We recommend to use the CohereChatGenerator instead.\n"
          ]
        }
      ]
    },
    {
      "cell_type": "markdown",
      "metadata": {
        "id": "zbotIOgXHkC5"
      },
      "source": [
        "## Building the Pipeline\n",
        "\n",
        "Add all components to your pipeline and connect them. Add connections from `output_validator` back to the `prompt_builder` for cases where the produced JSON doesn't comply with the JSON schema. Set `max_loops_allowed` to avoid infinite looping."
      ]
    },
    {
      "cell_type": "code",
      "execution_count": 150,
      "metadata": {
        "id": "eFglN9YEv-1W",
        "colab": {
          "base_uri": "https://localhost:8080/"
        },
        "outputId": "e7764b95-8ca9-41c9-924b-5c7625ffefbc"
      },
      "outputs": [
        {
          "output_type": "execute_result",
          "data": {
            "text/plain": [
              "<haystack.core.pipeline.pipeline.Pipeline object at 0x796be62adc30>\n",
              "🚅 Components\n",
              "  - prompt_builder: PromptBuilder\n",
              "  - llm: CohereGenerator\n",
              "  - output_validator: OutputValidator\n",
              "🛤️ Connections\n",
              "  - prompt_builder.prompt -> llm.prompt (str)\n",
              "  - llm.replies -> output_validator.replies (List[str])\n",
              "  - output_validator.invalid_replies -> prompt_builder.invalid_replies (Optional[List[str]])\n",
              "  - output_validator.error_message -> prompt_builder.error_message (Optional[str])"
            ]
          },
          "metadata": {},
          "execution_count": 150
        }
      ],
      "source": [
        "from haystack import Pipeline\n",
        "\n",
        "pipeline = Pipeline(max_loops_allowed=5)\n",
        "\n",
        "# Add components to your pipeline\n",
        "pipeline.add_component(instance=PromptBuilder(template=prompt_template), name=\"prompt_builder\")\n",
        "pipeline.add_component(instance=generator, name=\"llm\")\n",
        "pipeline.add_component(instance=OutputValidator(pydantic_model=CitiesData), name=\"output_validator\")\n",
        "\n",
        "# Now, connect the components to each other\n",
        "pipeline.connect(\"prompt_builder\", \"llm\")\n",
        "pipeline.connect(\"llm\", \"output_validator\")\n",
        "\n",
        "# If a component has more than one output or input, explicitly specify the connections:\n",
        "pipeline.connect(\"output_validator.invalid_replies\", \"prompt_builder.invalid_replies\")\n",
        "pipeline.connect(\"output_validator.error_message\", \"prompt_builder.error_message\")"
      ]
    },
    {
      "cell_type": "markdown",
      "metadata": {
        "id": "kV_kexTjImpo"
      },
      "source": [
        "## Testing the Pipeline\n",
        "\n",
        "Run the pipeline with an example passage that you want to convert into a JSON format and the `json_schema` you have created for `CitiesData`.\n",
        "\n",
        "The output of the LLM should be compliant with the `json_schema`. If the LLM doesn't generate the correct JSON object, it will loop back and try again."
      ]
    },
    {
      "cell_type": "code",
      "source": [
        "## Basic passage\n",
        "passage = \"Berlin is the capital of Germany. It has a population of 3,850,809. Paris, France's capital, has 2.161 million residents. Lisbon is the capital and the largest city of Portugal with the population of 504,718.\""
      ],
      "metadata": {
        "id": "J084mufSkzkv"
      },
      "execution_count": 71,
      "outputs": []
    },
    {
      "cell_type": "code",
      "source": [
        "## Passage with more information (landmarks)\n",
        "passage= \"\"\"\n",
        "Berlin, the vibrant and historic capital of Germany, is a metropolis teeming with a population of approximately 3,850,809 residents. This city is a fascinating blend of contemporary culture, rich history, and innovative architecture, standing as a testament to Germany's resilience and progress. Berlin is known for its iconic landmarks, such as the Brandenburg Gate, the Berlin Wall Memorial, and the Reichstag building, all of which attract millions of tourists each year.\n",
        "\n",
        "In contrast, Paris, the enchanting capital of France, is home to around 2.161 million people. Renowned as the \"City of Light,\" Paris is celebrated for its timeless charm, exquisite art, and world-renowned cuisine. The city boasts a myriad of famous attractions, including the Eiffel Tower, the Louvre Museum, and Notre-Dame Cathedral, each contributing to its status as one of the most visited cities in the world.\n",
        "\n",
        "Lisbon, the picturesque capital and the largest city of Portugal, has a population of 504,718. Perched on the edge of the Atlantic Ocean, Lisbon is known for its unique blend of traditional heritage and modernism. The city's vibrant neighborhoods, such as Alfama and Bairro Alto, its historic trams, and the stunning views from São Jorge Castle, all add to its allure. Lisbon's rich maritime history and cultural significance make it a fascinating destination for travelers from around the globe.\n",
        "\n",
        "Istanbul, straddling Europe and Asia across the Bosphorus Strait, is Turkey's most populous city, with a staggering population of over 15 million residents. As the historic heart of the Ottoman Empire, Istanbul is a city of contrasts, where ancient mosques and bustling bazaars coexist with modern skyscrapers and cosmopolitan nightlife. Key landmarks such as the Hagia Sophia, the Blue Mosque, and Topkapi Palace reflect its rich historical and cultural heritage, making it an enthralling destination for visitors.\n",
        "\n",
        "London, the bustling capital of the United Kingdom, boasts a diverse population of approximately 8.982 million people. A global city renowned for its influence on finance, culture, and politics, London is a hub of activity and innovation. The city's landscape is dotted with iconic sites, including the Tower of London, Buckingham Palace, the Houses of Parliament, and the British Museum. London's vibrant arts scene, historical significance, and cultural diversity ensure its status as one of the world's most dynamic and captivating cities.\n",
        "\"\"\""
      ],
      "metadata": {
        "id": "GaIYRabc_XL7"
      },
      "execution_count": 83,
      "outputs": []
    },
    {
      "cell_type": "code",
      "source": [
        "## Passage without full information (London has no landmarks)\n",
        "passage= \"\"\"\n",
        "Berlin, the vibrant and historic capital of Germany, is a metropolis teeming with a population of approximately 3,850,809 residents. This city is a fascinating blend of contemporary culture, rich history, and innovative architecture, standing as a testament to Germany's resilience and progress. Berlin is known for its iconic landmarks, such as the Brandenburg Gate, the Berlin Wall Memorial, and the Reichstag building, all of which attract millions of tourists each year.\n",
        "\n",
        "In contrast, Paris, the enchanting capital of France, is home to around 2.161 million people. Renowned as the \"City of Light,\" Paris is celebrated for its timeless charm, exquisite art, and world-renowned cuisine. The city boasts a myriad of famous attractions, including the Eiffel Tower, the Louvre Museum, and Notre-Dame Cathedral, each contributing to its status as one of the most visited cities in the world.\n",
        "\n",
        "Lisbon, the picturesque capital and the largest city of Portugal, has a population of 504,718. Perched on the edge of the Atlantic Ocean, Lisbon is known for its unique blend of traditional heritage and modernism. The city's vibrant neighborhoods, such as Alfama and Bairro Alto, its historic trams, and the stunning views from São Jorge Castle, all add to its allure. Lisbon's rich maritime history and cultural significance make it a fascinating destination for travelers from around the globe.\n",
        "\n",
        "Istanbul, straddling Europe and Asia across the Bosphorus Strait, is Turkey's most populous city, with a staggering population of over 15 million residents. As the historic heart of the Ottoman Empire, Istanbul is a city of contrasts, where ancient mosques and bustling bazaars coexist with modern skyscrapers and cosmopolitan nightlife. Key landmarks such as the Hagia Sophia, the Blue Mosque, and Topkapi Palace reflect its rich historical and cultural heritage, making it an enthralling destination for visitors.\n",
        "\n",
        "London, the bustling capital of the United Kingdom, boasts a diverse population of approximately 8.982 million people.\n",
        "\"\"\""
      ],
      "metadata": {
        "id": "w0IPppUWoNo1"
      },
      "execution_count": 151,
      "outputs": []
    },
    {
      "cell_type": "code",
      "source": [
        "## Long passage\n",
        "\n",
        "passage = \"\"\"\n",
        "### A Journey Through Capitals\n",
        "\n",
        "It was the trip of a lifetime, a whirlwind journey through five of the world's most captivating capital cities. Sofia, a travel blogger with a thirst for adventure and an eye for detail, had always dreamt of such an odyssey. With her notebook and camera in tow, she set out to explore the world.\n",
        "\n",
        "Sofia's first stop was Tokyo, a city that thrummed with energy. Stepping out of the airport, she was immediately engulfed in the vibrant chaos of a metropolis that never slept. The city, home to exactly 13,515,271 people, felt alive with possibility. Her first destination was the iconic Tokyo Tower, a red and white sentinel against the skyline. She marveled at the view from the top, the city sprawled out beneath her like a living, breathing entity.\n",
        "\n",
        "From there, she made her way to the serene grounds of the Sensoji Temple. The contrast was striking: from the ultramodern skyscrapers to a haven of tranquility that had stood for centuries. The temple's incense-laden air and the gentle hum of prayers offered a moment of peace amidst the bustling city.\n",
        "\n",
        "Her days in Tokyo were filled with exploration. In Shibuya, she navigated the famous crossing, swept along by the tide of humanity. In Shinjuku, she wandered through neon-lit streets, discovering cutting-edge technology stores and the latest in fashion. Tokyo was a city of contrasts, a place where tradition and innovation danced together in perfect harmony.\n",
        "\n",
        "Next, Sofia flew to Paris, often called \"The City of Light.\" With 2,161,000 resident here, Paris felt both intimate and grand. She began her adventure with a visit to the Eiffel Tower, the iron lady who stood tall against the blue Parisian sky. As she ascended, the city's charm unfolded beneath her, a tapestry of history and elegance.\n",
        "\n",
        "The Louvre was her next stop, where she spent hours lost among masterpieces. The Mona Lisa's enigmatic smile held her captive, and she found herself entranced by the vast collection of art that spanned millennia. Notre-Dame Cathedral, with its Gothic spires and haunting beauty, filled her with awe. Walking through its grand nave, she felt the weight of centuries of history.\n",
        "\n",
        "But it was the streets of Paris that truly captured her heart. She spent afternoons in quaint cafes, sipping coffee and indulging in flaky croissants. The Seine's gentle flow mirrored the rhythm of the city, and as she strolled along its banks, she understood why Paris was synonymous with romance.\n",
        "\n",
        "From Europe, Sofia crossed the Atlantic to Washington, D.C., the political heart of the United States. With a population of more than 692k, the city felt powerful yet accessible. Her first stop was the White House, an enduring symbol of democracy. Standing before it, she couldn't help but reflect on the history made within its walls.\n",
        "\n",
        "The Capitol Building, with its majestic dome, was next. As she walked its halls, she felt the gravity of the decisions that had shaped a nation. The Lincoln Memorial, reflecting in the pool, was a poignant reminder of the country's journey and the leaders who had guided it.\n",
        "\n",
        "Washington, D.C. was also a city of museums. Sofia spent hours in the Smithsonian Institution, each exhibit opening a window to a different world. The cherry blossom trees, in full bloom, added a touch of delicate beauty to the city's grandeur. Walking beneath their pink canopy, she felt a deep connection to the spirit of the place.\n",
        "\n",
        "Her journey then took her to the southern hemisphere, to Canberra, Australia. With a population of 431,380, Canberra was a city of meticulous design and natural beauty. Sofia began her exploration at the Australian War Memorial, a solemn tribute to the nation's heroes. The stories of bravery and sacrifice moved her deeply.\n",
        "\n",
        "The National Gallery of Australia was a treasure trove of art, where she marveled at both indigenous and contemporary works. The Parliament House, with its sweeping architecture, stood as a testament to Australia's democratic spirit. She wandered through its halls, gaining insight into the country's political landscape.\n",
        "\n",
        "Canberra's green spaces provided a perfect balance to its cultural landmarks. Sofia spent her afternoons hiking through nature reserves and enjoying the city's outdoor activities. The blend of history and nature in Canberra offered a serene yet stimulating experience.\n",
        "\n",
        "The final leg of Sofia's journey brought her to Ottawa, Canada. The city's rich cultural heritage and political significance were immediately evident. Parliament Hill, with its Gothic Revival architecture, dominated the skyline. Sofia watched the Changing of the Guard ceremony, feeling a sense of national pride and tradition.\n",
        "\n",
        "The National Gallery of Canada housed an impressive collection of art, and Sofia found herself particularly drawn to the works of Canadian artists. The Rideau Canal, winding through the city, was a focal point of her visit. In winter, it transformed into the world's largest skating rink, and though it wasn't frozen during her visit, she could imagine the joy it brought to residents and visitors alike.\n",
        "\n",
        "Ottawa's festivals and vibrant arts scene provided a lively backdrop to her days. She attended music performances and art exhibitions, immersing herself in the city's diverse culture. Each festival was a celebration of creativity, reflecting the dynamic spirit of the city. There must have been a reason why 1.017 million people live here.\n",
        "\n",
        "As Sofia's journey came to an end, she reflected on the myriad experiences each city had offered. Tokyo's blend of tradition and modernity, Paris's romantic charm, Washington, D.C.'s historical significance, Canberra's natural beauty, and Ottawa's cultural vibrancy had each left an indelible mark on her.\n",
        "\n",
        "Through her travels, she had seen the world not just through landmarks and attractions, but through the stories of the people and the spirit of each place. It was a journey of discovery and connection, one that she would carry with her for the rest of her life.\n",
        "\"\"\""
      ],
      "metadata": {
        "id": "xyhqSRIBbqnD"
      },
      "execution_count": 67,
      "outputs": []
    },
    {
      "cell_type": "code",
      "source": [
        "result = pipeline.run({\"prompt_builder\": {\"passage\": passage, \"schema\": json_schema}})"
      ],
      "metadata": {
        "id": "IslGo6ECvm6Z",
        "outputId": "e9cad6b9-17be-4b40-a92b-d2ff625c47d1",
        "colab": {
          "base_uri": "https://localhost:8080/"
        }
      },
      "execution_count": 152,
      "outputs": [
        {
          "output_type": "stream",
          "name": "stdout",
          "text": [
            "\u001b[34m{\n",
            "    \"cities\": [\n",
            "        {\n",
            "            \"name\": \"Berlin\",\n",
            "            \"country\": \"Germany\",\n",
            "            \"population\": 3850809,\n",
            "            \"landmarks\": [\n",
            "                \"Brandenburg Gate\",\n",
            "                \"Berlin Wall Memorial\",\n",
            "                \"Reichstag Building\"\n",
            "            ]\n",
            "        },\n",
            "        {\n",
            "            \"name\": \"Paris\",\n",
            "            \"country\": \"France\",\n",
            "            \"population\": 2161000,\n",
            "            \"landmarks\": [\n",
            "                \"Eiffel Tower\",\n",
            "                \"Louvre Museum\",\n",
            "                \"Notre-Dame Cathedral\"\n",
            "            ]\n",
            "        },\n",
            "        {\n",
            "            \"name\": \"Lisbon\",\n",
            "            \"country\": \"Portugal\",\n",
            "            \"population\": 504718,\n",
            "            \"landmarks\": [\n",
            "                \"Alfama\",\n",
            "                \"Bairro Alto\",\n",
            "                \"São Jorge Castle\"\n",
            "            ]\n",
            "        },\n",
            "        {\n",
            "            \"name\": \"Istanbul\",\n",
            "            \"country\": \"Turkey\",\n",
            "            \"population\": 15000000,\n",
            "            \"landmarks\": [\n",
            "                \"Hagia Sophia\",\n",
            "                \"Blue Mosque\",\n",
            "                \"Topkapi Palace\"\n",
            "            ]\n",
            "        },\n",
            "        {\n",
            "            \"name\": \"London\",\n",
            "            \"country\": \"United Kingdom\",\n",
            "            \"population\": 8982000,\n",
            "            \"landmarks\": null\n",
            "        }\n",
            "    ]\n",
            "}\n",
            "\u001b[32mValid JSON from LLM - No need for looping: {\n",
            "    \"cities\": [\n",
            "        {\n",
            "            \"name\": \"Berlin\",\n",
            "            \"country\": \"Germany\",\n",
            "            \"population\": 3850809,\n",
            "            \"landmarks\": [\n",
            "                \"Brandenburg Gate\",\n",
            "                \"Berlin Wall Memorial\",\n",
            "                \"Reichstag Building\"\n",
            "            ]\n",
            "        },\n",
            "        {\n",
            "            \"name\": \"Paris\",\n",
            "            \"country\": \"France\",\n",
            "            \"population\": 2161000,\n",
            "            \"landmarks\": [\n",
            "                \"Eiffel Tower\",\n",
            "                \"Louvre Museum\",\n",
            "                \"Notre-Dame Cathedral\"\n",
            "            ]\n",
            "        },\n",
            "        {\n",
            "            \"name\": \"Lisbon\",\n",
            "            \"country\": \"Portugal\",\n",
            "            \"population\": 504718,\n",
            "            \"landmarks\": [\n",
            "                \"Alfama\",\n",
            "                \"Bairro Alto\",\n",
            "                \"São Jorge Castle\"\n",
            "            ]\n",
            "        },\n",
            "        {\n",
            "            \"name\": \"Istanbul\",\n",
            "            \"country\": \"Turkey\",\n",
            "            \"population\": 15000000,\n",
            "            \"landmarks\": [\n",
            "                \"Hagia Sophia\",\n",
            "                \"Blue Mosque\",\n",
            "                \"Topkapi Palace\"\n",
            "            ]\n",
            "        },\n",
            "        {\n",
            "            \"name\": \"London\",\n",
            "            \"country\": \"United Kingdom\",\n",
            "            \"population\": 8982000,\n",
            "            \"landmarks\": null\n",
            "        }\n",
            "    ]\n",
            "}\n"
          ]
        }
      ]
    },
    {
      "cell_type": "markdown",
      "metadata": {
        "id": "WWxmPgADS_Fa"
      },
      "source": [
        "> If you encounter `PipelineMaxLoops: Maximum loops count (5) exceeded for component 'prompt_builder'.` error, consider increasing the maximum loop count or simply rerun the pipeline."
      ]
    },
    {
      "cell_type": "markdown",
      "metadata": {
        "id": "-UKW5wtIIT7w"
      },
      "source": [
        "### Visualize the Pipeline\n"
      ]
    },
    {
      "cell_type": "code",
      "execution_count": null,
      "metadata": {
        "id": "RZJg6YHId300",
        "colab": {
          "base_uri": "https://localhost:8080/",
          "height": 720
        },
        "outputId": "85d68648-99ad-4610-d7b9-171ae2409fc3"
      },
      "outputs": [
        {
          "output_type": "display_data",
          "data": {
            "image/png": "[encoded data removed]",
            "text/plain": [
              "<IPython.core.display.Image object>"
            ]
          },
          "metadata": {}
        }
      ],
      "source": [
        "pipeline.show()"
      ]
    },
    {
      "cell_type": "markdown",
      "metadata": {
        "id": "eWPawSjgSJAM"
      },
      "source": [
        "### Print the Correct JSON\n",
        "If you didn't get any error, you can now print the corrected JSON."
      ]
    },
    {
      "cell_type": "code",
      "execution_count": null,
      "metadata": {
        "id": "BVO47gXQQnDC"
      },
      "outputs": [],
      "source": [
        "valid_reply = result[\"output_validator\"][\"valid_replies\"][0]\n",
        "valid_json = json.loads(valid_reply)\n",
        "print(valid_json)"
      ]
    },
    {
      "cell_type": "markdown",
      "source": [
        "## Bonus: Check Verify the Content in JSON"
      ],
      "metadata": {
        "id": "AF8aSKjVPRDA"
      }
    },
    {
      "cell_type": "code",
      "source": [
        "prompt_template_validator = \"\"\"\n",
        "You'll have a JSON and a text, detect if each information in this JSON object can be extracted from the text.\n",
        "If some information in JSON is not mentioned in the text, say \"NO\". Otherwise, say \"YES\".\n",
        "\n",
        "JSON object: {{json_object}}\n",
        "text: {{text}}\n",
        "\"\"\""
      ],
      "metadata": {
        "id": "wlEheIg9yLK0"
      },
      "execution_count": 138,
      "outputs": []
    },
    {
      "cell_type": "code",
      "source": [
        "from haystack import Pipeline\n",
        "\n",
        "pipeline = Pipeline(max_loops_allowed=10)\n",
        "\n",
        "# Add components to your pipeline\n",
        "pipeline.add_component(instance=PromptBuilder(template=prompt_template), name=\"prompt_builder\")\n",
        "pipeline.add_component(instance=HuggingFaceAPIGenerator(api_type=\"serverless_inference_api\",\n",
        "                                    api_params={\"model\": \"mistralai/Mistral-7B-Instruct-v0.3\"}), name=\"llm\")\n",
        "pipeline.add_component(instance=OutputValidator(pydantic_model=CitiesData), name=\"output_validator\")\n",
        "pipeline.add_component(instance=PromptBuilder(template=prompt_template_validator), name=\"prompt_template_validator\")\n",
        "pipeline.add_component(instance=OpenAIGenerator(), name=\"generator_validator\")\n",
        "\n",
        "\n",
        "# Now, connect the components to each other\n",
        "pipeline.connect(\"prompt_builder\", \"llm\")\n",
        "pipeline.connect(\"llm\", \"output_validator\")\n",
        "\n",
        "# If a component has more than one output or input, explicitly specify the connections:\n",
        "pipeline.connect(\"output_validator.invalid_replies\", \"prompt_builder.invalid_replies\")\n",
        "pipeline.connect(\"output_validator.error_message\", \"prompt_builder.error_message\")\n",
        "\n",
        "pipeline.connect(\"output_validator.valid_replies\", \"prompt_template_validator.json_object\")\n",
        "pipeline.connect(\"prompt_template_validator\", \"generator_validator\")"
      ],
      "metadata": {
        "colab": {
          "base_uri": "https://localhost:8080/"
        },
        "id": "AtODv6EjmQaN",
        "outputId": "6c311712-38f7-412a-f807-930b78545d4f"
      },
      "execution_count": 141,
      "outputs": [
        {
          "output_type": "execute_result",
          "data": {
            "text/plain": [
              "<haystack.core.pipeline.pipeline.Pipeline object at 0x796be6290ca0>\n",
              "🚅 Components\n",
              "  - prompt_builder: PromptBuilder\n",
              "  - llm: HuggingFaceAPIGenerator\n",
              "  - output_validator: OutputValidator\n",
              "  - prompt_template_validator: PromptBuilder\n",
              "  - generator_validator: OpenAIGenerator\n",
              "🛤️ Connections\n",
              "  - prompt_builder.prompt -> llm.prompt (str)\n",
              "  - llm.replies -> output_validator.replies (List[str])\n",
              "  - output_validator.invalid_replies -> prompt_builder.invalid_replies (Optional[List[str]])\n",
              "  - output_validator.error_message -> prompt_builder.error_message (Optional[str])\n",
              "  - output_validator.valid_replies -> prompt_template_validator.json_object (List[str])\n",
              "  - prompt_template_validator.prompt -> generator_validator.prompt (str)"
            ]
          },
          "metadata": {},
          "execution_count": 141
        }
      ]
    },
    {
      "cell_type": "code",
      "source": [
        "result = pipeline.run({\"prompt_builder\": {\"passage\": passage, \"schema\": json_schema}, \"prompt_template_validator\":{\"text\": passage}}, include_outputs_from={\"output_validator\", \"prompt_template_validator\"})"
      ],
      "metadata": {
        "colab": {
          "base_uri": "https://localhost:8080/"
        },
        "id": "LbGMtU7GmptX",
        "outputId": "5ec431cc-f7a0-4d60-f7ec-3d65503da214"
      },
      "execution_count": 142,
      "outputs": [
        {
          "output_type": "stream",
          "name": "stdout",
          "text": [
            "\u001b[34m\n",
            "{\n",
            "    \"cities\": [\n",
            "        {\n",
            "            \"name\": \"Berlin\",\n",
            "            \"country\": \"Germany\",\n",
            "            \"population\": 3850809,\n",
            "            \"landmarks\": [\"Brandenburg Gate\", \"Berlin Wall Memorial\", \"Reichstag building\"]\n",
            "        },\n",
            "        {\n",
            "            \"name\": \"Paris\",\n",
            "            \"country\": \"France\",\n",
            "            \"population\": 2161000,\n",
            "            \"landmarks\": [\"Eiffel Tower\", \"Louvre Museum\", \"Notre-Dame Cathedral\"]\n",
            "        },\n",
            "        {\n",
            "            \"name\": \"Lisbon\",\n",
            "            \"country\": \"Portugal\",\n",
            "            \"population\": 504718,\n",
            "            \"landmarks\": []\n",
            "        },\n",
            "        {\n",
            "            \"name\": \"Istanbul\",\n",
            "            \"country\": \"Turkey\",\n",
            "            \"population\": 15000000,\n",
            "            \"landmarks\": [\"Hagia Sophia\", \"Blue Mosque\", \"Topkapi Palace\"]\n",
            "        },\n",
            "        {\n",
            "            \"name\": \"London\",\n",
            "            \"country\": \"United Kingdom\",\n",
            "            \"population\": 8982000,\n",
            "            \"landmarks\": []\n",
            "        }\n",
            "    ]\n",
            "}\n",
            "\u001b[32mValid JSON from LLM - No need for looping: \n",
            "{\n",
            "    \"cities\": [\n",
            "        {\n",
            "            \"name\": \"Berlin\",\n",
            "            \"country\": \"Germany\",\n",
            "            \"population\": 3850809,\n",
            "            \"landmarks\": [\"Brandenburg Gate\", \"Berlin Wall Memorial\", \"Reichstag building\"]\n",
            "        },\n",
            "        {\n",
            "            \"name\": \"Paris\",\n",
            "            \"country\": \"France\",\n",
            "            \"population\": 2161000,\n",
            "            \"landmarks\": [\"Eiffel Tower\", \"Louvre Museum\", \"Notre-Dame Cathedral\"]\n",
            "        },\n",
            "        {\n",
            "            \"name\": \"Lisbon\",\n",
            "            \"country\": \"Portugal\",\n",
            "            \"population\": 504718,\n",
            "            \"landmarks\": []\n",
            "        },\n",
            "        {\n",
            "            \"name\": \"Istanbul\",\n",
            "            \"country\": \"Turkey\",\n",
            "            \"population\": 15000000,\n",
            "            \"landmarks\": [\"Hagia Sophia\", \"Blue Mosque\", \"Topkapi Palace\"]\n",
            "        },\n",
            "        {\n",
            "            \"name\": \"London\",\n",
            "            \"country\": \"United Kingdom\",\n",
            "            \"population\": 8982000,\n",
            "            \"landmarks\": []\n",
            "        }\n",
            "    ]\n",
            "}\n"
          ]
        }
      ]
    },
    {
      "cell_type": "code",
      "source": [
        "result[\"generator_validator\"][\"replies\"]"
      ],
      "metadata": {
        "id": "WRftj85AwAPJ",
        "outputId": "b9f588ee-9d5b-4a44-83ce-c54cd2ddf078",
        "colab": {
          "base_uri": "https://localhost:8080/"
        }
      },
      "execution_count": 143,
      "outputs": [
        {
          "output_type": "execute_result",
          "data": {
            "text/plain": [
              "['YES, YES, YES, YES\\nNO']"
            ]
          },
          "metadata": {},
          "execution_count": 143
        }
      ]
    },
    {
      "cell_type": "code",
      "source": [
        "result"
      ],
      "metadata": {
        "colab": {
          "base_uri": "https://localhost:8080/"
        },
        "id": "VpHkjbZCsFNp",
        "outputId": "29184fa3-ebd5-4a6f-f902-2eedb1005c2d"
      },
      "execution_count": 120,
      "outputs": [
        {
          "output_type": "execute_result",
          "data": {
            "text/plain": [
              "{'llm': {'meta': [{'model': 'mistralai/Mistral-7B-Instruct-v0.1',\n",
              "    'finish_reason': None,\n",
              "    'usage': {'completion_tokens': 0}}]},\n",
              " 'generator_validator': {'replies': ['Based on the text provided, the following information from the JSON object can be extracted:\\n\\n1. Berlin:\\n- Population: 3,850,809\\n- Landmarks: Brandenburg Gate, Berlin Wall Memorial, Reichstag building\\n\\n2. Paris:\\n- Population: 2,161,000\\n- Landmarks: Eiffel Tower, Louvre Museum, Notre-Dame Cathedral\\n\\n3. Lisbon:\\n- Population: 504,718\\n- Landmarks: Alfama, Bairro Alto, São Jorge Castle\\n\\n4. Istanbul:\\n- Population: 15,000,000\\n- Landmarks: Hagia Sophia, Blue Mosque, Topkapi Palace\\n\\n5. London:\\n- Population: 8,982,000\\n\\nOverall, the text provides accurate information for all cities regarding population and major landmarks.'],\n",
              "  'meta': [{'model': 'gpt-3.5-turbo-0125',\n",
              "    'index': 0,\n",
              "    'finish_reason': 'stop',\n",
              "    'usage': {'completion_tokens': 166,\n",
              "     'prompt_tokens': 737,\n",
              "     'total_tokens': 903}}]},\n",
              " 'output_validator': {'valid_replies': '{\\n  \"cities\": [\\n    {\\n      \"name\": \"Berlin\",\\n      \"country\": \"Germany\",\\n      \"population\": 3850809,\\n      \"landmarks\": [\\n        \"Brandenburg Gate\",\\n        \"Berlin Wall Memorial\",\\n        \"Reichstag building\"\\n      ]\\n    },\\n    {\\n      \"name\": \"Paris\",\\n      \"country\": \"France\",\\n      \"population\": 2161000,\\n      \"landmarks\": [\\n        \"Eiffel Tower\",\\n        \"Louvre Museum\",\\n        \"Notre-Dame Cathedral\"\\n      ]\\n    },\\n    {\\n      \"name\": \"Lisbon\",\\n      \"country\": \"Portugal\",\\n      \"population\": 504718,\\n      \"landmarks\": [\\n        \"Alfama\",\\n        \"Bairro Alto\",\\n        \"São Jorge Castle\"\\n      ]\\n    },\\n    {\\n      \"name\": \"Istanbul\",\\n      \"country\": \"Turkey\",\\n      \"population\": 15000000,\\n      \"landmarks\": [\\n        \"Hagia Sophia\",\\n        \"Blue Mosque\",\\n        \"Topkapi Palace\"\\n      ]\\n    },\\n    {\\n      \"name\": \"London\",\\n      \"country\": \"United Kingdom\",\\n      \"population\": 8982000,\\n      \"landmarks\": [\\n        \"Tower Bridge\",\\n        \"Buckingham Palace\",\\n        \"Big Ben\"\\n      ]\\n    }\\n  ]\\n}'},\n",
              " 'prompt_template_validator': {'prompt': '\\nYou\\'ll have a JSON and a text, detect if each information in this JSON object can be extracted from the text.\\n\\nJSON object: {\\n  \"cities\": [\\n    {\\n      \"name\": \"Berlin\",\\n      \"country\": \"Germany\",\\n      \"population\": 3850809,\\n      \"landmarks\": [\\n        \"Brandenburg Gate\",\\n        \"Berlin Wall Memorial\",\\n        \"Reichstag building\"\\n      ]\\n    },\\n    {\\n      \"name\": \"Paris\",\\n      \"country\": \"France\",\\n      \"population\": 2161000,\\n      \"landmarks\": [\\n        \"Eiffel Tower\",\\n        \"Louvre Museum\",\\n        \"Notre-Dame Cathedral\"\\n      ]\\n    },\\n    {\\n      \"name\": \"Lisbon\",\\n      \"country\": \"Portugal\",\\n      \"population\": 504718,\\n      \"landmarks\": [\\n        \"Alfama\",\\n        \"Bairro Alto\",\\n        \"São Jorge Castle\"\\n      ]\\n    },\\n    {\\n      \"name\": \"Istanbul\",\\n      \"country\": \"Turkey\",\\n      \"population\": 15000000,\\n      \"landmarks\": [\\n        \"Hagia Sophia\",\\n        \"Blue Mosque\",\\n        \"Topkapi Palace\"\\n      ]\\n    },\\n    {\\n      \"name\": \"London\",\\n      \"country\": \"United Kingdom\",\\n      \"population\": 8982000,\\n      \"landmarks\": [\\n        \"Tower Bridge\",\\n        \"Buckingham Palace\",\\n        \"Big Ben\"\\n      ]\\n    }\\n  ]\\n}\\ntext: \\nBerlin, the vibrant and historic capital of Germany, is a metropolis teeming with a population of approximately 3,850,809 residents. This city is a fascinating blend of contemporary culture, rich history, and innovative architecture, standing as a testament to Germany\\'s resilience and progress. Berlin is known for its iconic landmarks, such as the Brandenburg Gate, the Berlin Wall Memorial, and the Reichstag building, all of which attract millions of tourists each year.\\n\\nIn contrast, Paris, the enchanting capital of France, is home to around 2.161 million people. Renowned as the \"City of Light,\" Paris is celebrated for its timeless charm, exquisite art, and world-renowned cuisine. The city boasts a myriad of famous attractions, including the Eiffel Tower, the Louvre Museum, and Notre-Dame Cathedral, each contributing to its status as one of the most visited cities in the world.\\n\\nLisbon, the picturesque capital and the largest city of Portugal, has a population of 504,718. Perched on the edge of the Atlantic Ocean, Lisbon is known for its unique blend of traditional heritage and modernism. The city\\'s vibrant neighborhoods, such as Alfama and Bairro Alto, its historic trams, and the stunning views from São Jorge Castle, all add to its allure. Lisbon\\'s rich maritime history and cultural significance make it a fascinating destination for travelers from around the globe.\\n\\nIstanbul, straddling Europe and Asia across the Bosphorus Strait, is Turkey\\'s most populous city, with a staggering population of over 15 million residents. As the historic heart of the Ottoman Empire, Istanbul is a city of contrasts, where ancient mosques and bustling bazaars coexist with modern skyscrapers and cosmopolitan nightlife. Key landmarks such as the Hagia Sophia, the Blue Mosque, and Topkapi Palace reflect its rich historical and cultural heritage, making it an enthralling destination for visitors.\\n\\nLondon, the bustling capital of the United Kingdom, boasts a diverse population of approximately 8.982 million people.\\n'}}"
            ]
          },
          "metadata": {},
          "execution_count": 120
        }
      ]
    }
  ],
  "metadata": {
    "accelerator": "GPU",
    "colab": {
      "gpuType": "T4",
      "provenance": [],
      "include_colab_link": true
    },
    "kernelspec": {
      "display_name": "Python 3",
      "name": "python3"
    },
    "language_info": {
      "name": "python"
    }
  },
  "nbformat": 4,
  "nbformat_minor": 0
}